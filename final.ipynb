{
 "cells": [
  {
   "cell_type": "code",
   "execution_count": 1,
   "metadata": {},
   "outputs": [],
   "source": [
    "import numpy as np\n",
    "import pandas as pd\n",
    "import matplotlib.pyplot as plt\n",
    "import os\n",
    "from collections import Counter"
   ]
  },
  {
   "cell_type": "code",
   "execution_count": 2,
   "metadata": {
    "_cell_guid": "b1076dfc-b9ad-4769-8c92-a6c4dae69d19",
    "_uuid": "8f2839f25d086af736a60e9eeb907d3b93b6e0e5"
   },
   "outputs": [],
   "source": [
    "data = pd.read_csv('data.csv')\n",
    "data[\"profit\"]= data[\"revenue\"] - data[\"budget\"]\n"
   ]
  },
  {
   "cell_type": "code",
   "execution_count": 3,
   "metadata": {},
   "outputs": [],
   "source": [
    "def split_columns(dataframe, primary_key, name, sep):\n",
    "    new = pd.DataFrame(columns = [primary_key])\n",
    "    for index, row in dataframe.iterrows():\n",
    "        new_row = {}\n",
    "        for j in row[name].split(sep):\n",
    "            new_row[primary_key] = row[primary_key]\n",
    "            new_row[j] = 1\n",
    "        new = new.append(new_row, ignore_index=True)\n",
    "    dataframe = dataframe.merge(new, on=primary_key, how='left')\n",
    "    return dataframe"
   ]
  },
  {
   "cell_type": "code",
   "execution_count": 4,
   "metadata": {},
   "outputs": [],
   "source": [
    "data = split_columns(data, \"imdb_id\", \"genres\", \"|\")"
   ]
  },
  {
   "cell_type": "code",
   "execution_count": 5,
   "metadata": {},
   "outputs": [],
   "source": [
    "data = split_columns(data, \"imdb_id\", \"cast\", \"|\")"
   ]
  },
  {
   "cell_type": "code",
   "execution_count": 6,
   "metadata": {},
   "outputs": [],
   "source": [
    "data = split_columns(data, \"imdb_id\", \"production_companies\", \"|\")"
   ]
  },
  {
   "cell_type": "code",
   "execution_count": 7,
   "metadata": {},
   "outputs": [
    {
     "data": {
      "text/plain": [
       "1890"
      ]
     },
     "execution_count": 7,
     "metadata": {},
     "output_type": "execute_result"
    }
   ],
   "source": [
    "len(data)"
   ]
  },
  {
   "cell_type": "markdown",
   "metadata": {},
   "source": [
    "# Предобработка датасета"
   ]
  },
  {
   "cell_type": "code",
   "execution_count": 8,
   "metadata": {},
   "outputs": [],
   "source": [
    "answer_ls = [] # создадим список с ответами. сюда будем добавлять ответы по мере прохождения теста\n",
    "# сюда можем вписать создание новых колонок в датасете"
   ]
  },
  {
   "cell_type": "markdown",
   "metadata": {},
   "source": [
    "# 1. У какого фильма из списка самый большой бюджет?\n",
    "Варианты ответов:\n",
    "1. The Dark Knight Rises (tt1345836)\n",
    "2. Spider-Man 3 (tt0413300)\n",
    "3. Avengers: Age of Ultron (tt2395427)\n",
    "4. The Warrior's Way\t(tt1032751)\n",
    "5. Pirates of the Caribbean: On Stranger Tides (tt1298650)"
   ]
  },
  {
   "cell_type": "code",
   "execution_count": 9,
   "metadata": {},
   "outputs": [
    {
     "data": {
      "text/html": [
       "<div>\n",
       "<style scoped>\n",
       "    .dataframe tbody tr th:only-of-type {\n",
       "        vertical-align: middle;\n",
       "    }\n",
       "\n",
       "    .dataframe tbody tr th {\n",
       "        vertical-align: top;\n",
       "    }\n",
       "\n",
       "    .dataframe thead th {\n",
       "        text-align: right;\n",
       "    }\n",
       "</style>\n",
       "<table border=\"1\" class=\"dataframe\">\n",
       "  <thead>\n",
       "    <tr style=\"text-align: right;\">\n",
       "      <th></th>\n",
       "      <th>imdb_id</th>\n",
       "      <th>popularity</th>\n",
       "      <th>budget</th>\n",
       "      <th>revenue</th>\n",
       "      <th>original_title</th>\n",
       "      <th>cast</th>\n",
       "      <th>director</th>\n",
       "      <th>tagline</th>\n",
       "      <th>overview</th>\n",
       "      <th>runtime</th>\n",
       "      <th>...</th>\n",
       "      <th>Charenton Productions</th>\n",
       "      <th>Hollywood Partners</th>\n",
       "      <th>Walrus &amp; Associates</th>\n",
       "      <th>Sweetpea Entertainment</th>\n",
       "      <th>SNL Studios</th>\n",
       "      <th>JLT Productions</th>\n",
       "      <th>Springwood Productions</th>\n",
       "      <th>Capella International</th>\n",
       "      <th>KC Medien AG</th>\n",
       "      <th>Nora Ephron Productions</th>\n",
       "    </tr>\n",
       "  </thead>\n",
       "  <tbody>\n",
       "    <tr>\n",
       "      <th>491</th>\n",
       "      <td>tt1032751</td>\n",
       "      <td>0.25054</td>\n",
       "      <td>425000000</td>\n",
       "      <td>11087569</td>\n",
       "      <td>The Warrior's Way</td>\n",
       "      <td>Kate Bosworth|Jang Dong-gun|Geoffrey Rush|Dann...</td>\n",
       "      <td>Sngmoo Lee</td>\n",
       "      <td>Assassin. Hero. Legend.</td>\n",
       "      <td>An Asian assassin (Dong-gun Jang) is forced to...</td>\n",
       "      <td>100</td>\n",
       "      <td>...</td>\n",
       "      <td>NaN</td>\n",
       "      <td>NaN</td>\n",
       "      <td>NaN</td>\n",
       "      <td>NaN</td>\n",
       "      <td>NaN</td>\n",
       "      <td>NaN</td>\n",
       "      <td>NaN</td>\n",
       "      <td>NaN</td>\n",
       "      <td>NaN</td>\n",
       "      <td>NaN</td>\n",
       "    </tr>\n",
       "  </tbody>\n",
       "</table>\n",
       "<p>1 rows × 5216 columns</p>\n",
       "</div>"
      ],
      "text/plain": [
       "       imdb_id  popularity     budget   revenue     original_title  \\\n",
       "491  tt1032751     0.25054  425000000  11087569  The Warrior's Way   \n",
       "\n",
       "                                                  cast    director  \\\n",
       "491  Kate Bosworth|Jang Dong-gun|Geoffrey Rush|Dann...  Sngmoo Lee   \n",
       "\n",
       "                     tagline  \\\n",
       "491  Assassin. Hero. Legend.   \n",
       "\n",
       "                                              overview  runtime  \\\n",
       "491  An Asian assassin (Dong-gun Jang) is forced to...      100   \n",
       "\n",
       "              ...            Charenton Productions Hollywood Partners  \\\n",
       "491           ...                              NaN                NaN   \n",
       "\n",
       "    Walrus & Associates  Sweetpea Entertainment  SNL Studios  JLT Productions  \\\n",
       "491                 NaN                     NaN          NaN              NaN   \n",
       "\n",
       "     Springwood Productions  Capella International  KC Medien AG  \\\n",
       "491                     NaN                    NaN           NaN   \n",
       "\n",
       "     Nora Ephron Productions  \n",
       "491                      NaN  \n",
       "\n",
       "[1 rows x 5216 columns]"
      ]
     },
     "execution_count": 9,
     "metadata": {},
     "output_type": "execute_result"
    }
   ],
   "source": [
    "# тут вводим ваш ответ и добавлем в его список ответов (сейчас для примера стоит \"1\")\n",
    "data[data.budget == data.budget.max()]"
   ]
  },
  {
   "cell_type": "code",
   "execution_count": 10,
   "metadata": {},
   "outputs": [],
   "source": [
    "answer_ls.append(4)"
   ]
  },
  {
   "cell_type": "markdown",
   "metadata": {},
   "source": [
    "# 2. Какой из фильмов самый длительный (в минутах)\n",
    "1. The Lord of the Rings: The Return of the King\t(tt0167260)\n",
    "2. Gods and Generals\t(tt0279111)\n",
    "3. King Kong\t(tt0360717)\n",
    "4. Pearl Harbor\t(tt0213149)\n",
    "5. Alexander\t(tt0346491)"
   ]
  },
  {
   "cell_type": "code",
   "execution_count": 11,
   "metadata": {},
   "outputs": [
    {
     "data": {
      "text/html": [
       "<div>\n",
       "<style scoped>\n",
       "    .dataframe tbody tr th:only-of-type {\n",
       "        vertical-align: middle;\n",
       "    }\n",
       "\n",
       "    .dataframe tbody tr th {\n",
       "        vertical-align: top;\n",
       "    }\n",
       "\n",
       "    .dataframe thead th {\n",
       "        text-align: right;\n",
       "    }\n",
       "</style>\n",
       "<table border=\"1\" class=\"dataframe\">\n",
       "  <thead>\n",
       "    <tr style=\"text-align: right;\">\n",
       "      <th></th>\n",
       "      <th>imdb_id</th>\n",
       "      <th>popularity</th>\n",
       "      <th>budget</th>\n",
       "      <th>revenue</th>\n",
       "      <th>original_title</th>\n",
       "      <th>cast</th>\n",
       "      <th>director</th>\n",
       "      <th>tagline</th>\n",
       "      <th>overview</th>\n",
       "      <th>runtime</th>\n",
       "      <th>...</th>\n",
       "      <th>Charenton Productions</th>\n",
       "      <th>Hollywood Partners</th>\n",
       "      <th>Walrus &amp; Associates</th>\n",
       "      <th>Sweetpea Entertainment</th>\n",
       "      <th>SNL Studios</th>\n",
       "      <th>JLT Productions</th>\n",
       "      <th>Springwood Productions</th>\n",
       "      <th>Capella International</th>\n",
       "      <th>KC Medien AG</th>\n",
       "      <th>Nora Ephron Productions</th>\n",
       "    </tr>\n",
       "  </thead>\n",
       "  <tbody>\n",
       "    <tr>\n",
       "      <th>1158</th>\n",
       "      <td>tt0279111</td>\n",
       "      <td>0.469518</td>\n",
       "      <td>56000000</td>\n",
       "      <td>12923936</td>\n",
       "      <td>Gods and Generals</td>\n",
       "      <td>Stephen Lang|Jeff Daniels|Robert Duvall|Kevin ...</td>\n",
       "      <td>Ronald F. Maxwell</td>\n",
       "      <td>The nations heart was touched by...</td>\n",
       "      <td>The film centers mostly around the personal an...</td>\n",
       "      <td>214</td>\n",
       "      <td>...</td>\n",
       "      <td>NaN</td>\n",
       "      <td>NaN</td>\n",
       "      <td>NaN</td>\n",
       "      <td>NaN</td>\n",
       "      <td>NaN</td>\n",
       "      <td>NaN</td>\n",
       "      <td>NaN</td>\n",
       "      <td>NaN</td>\n",
       "      <td>NaN</td>\n",
       "      <td>NaN</td>\n",
       "    </tr>\n",
       "  </tbody>\n",
       "</table>\n",
       "<p>1 rows × 5216 columns</p>\n",
       "</div>"
      ],
      "text/plain": [
       "        imdb_id  popularity    budget   revenue     original_title  \\\n",
       "1158  tt0279111    0.469518  56000000  12923936  Gods and Generals   \n",
       "\n",
       "                                                   cast           director  \\\n",
       "1158  Stephen Lang|Jeff Daniels|Robert Duvall|Kevin ...  Ronald F. Maxwell   \n",
       "\n",
       "                                  tagline  \\\n",
       "1158  The nations heart was touched by...   \n",
       "\n",
       "                                               overview  runtime  \\\n",
       "1158  The film centers mostly around the personal an...      214   \n",
       "\n",
       "               ...            Charenton Productions Hollywood Partners  \\\n",
       "1158           ...                              NaN                NaN   \n",
       "\n",
       "     Walrus & Associates  Sweetpea Entertainment  SNL Studios  \\\n",
       "1158                 NaN                     NaN          NaN   \n",
       "\n",
       "      JLT Productions  Springwood Productions  Capella International  \\\n",
       "1158              NaN                     NaN                    NaN   \n",
       "\n",
       "      KC Medien AG  Nora Ephron Productions  \n",
       "1158           NaN                      NaN  \n",
       "\n",
       "[1 rows x 5216 columns]"
      ]
     },
     "execution_count": 11,
     "metadata": {},
     "output_type": "execute_result"
    }
   ],
   "source": [
    "data[data.runtime == data.runtime.max()]"
   ]
  },
  {
   "cell_type": "code",
   "execution_count": 12,
   "metadata": {},
   "outputs": [],
   "source": [
    "answer_ls.append(2)"
   ]
  },
  {
   "cell_type": "markdown",
   "metadata": {},
   "source": [
    "# 3. Какой из фильмов самый короткий (в минутах)\n",
    "Варианты ответов:\n",
    "\n",
    "1. Home on the Range\ttt0299172\n",
    "2. The Jungle Book 2\ttt0283426\n",
    "3. Winnie the Pooh\ttt1449283\n",
    "4. Corpse Bride\ttt0121164\n",
    "5. Hoodwinked!\ttt0443536"
   ]
  },
  {
   "cell_type": "code",
   "execution_count": 13,
   "metadata": {},
   "outputs": [
    {
     "data": {
      "text/html": [
       "<div>\n",
       "<style scoped>\n",
       "    .dataframe tbody tr th:only-of-type {\n",
       "        vertical-align: middle;\n",
       "    }\n",
       "\n",
       "    .dataframe tbody tr th {\n",
       "        vertical-align: top;\n",
       "    }\n",
       "\n",
       "    .dataframe thead th {\n",
       "        text-align: right;\n",
       "    }\n",
       "</style>\n",
       "<table border=\"1\" class=\"dataframe\">\n",
       "  <thead>\n",
       "    <tr style=\"text-align: right;\">\n",
       "      <th></th>\n",
       "      <th>imdb_id</th>\n",
       "      <th>popularity</th>\n",
       "      <th>budget</th>\n",
       "      <th>revenue</th>\n",
       "      <th>original_title</th>\n",
       "      <th>cast</th>\n",
       "      <th>director</th>\n",
       "      <th>tagline</th>\n",
       "      <th>overview</th>\n",
       "      <th>runtime</th>\n",
       "      <th>...</th>\n",
       "      <th>Charenton Productions</th>\n",
       "      <th>Hollywood Partners</th>\n",
       "      <th>Walrus &amp; Associates</th>\n",
       "      <th>Sweetpea Entertainment</th>\n",
       "      <th>SNL Studios</th>\n",
       "      <th>JLT Productions</th>\n",
       "      <th>Springwood Productions</th>\n",
       "      <th>Capella International</th>\n",
       "      <th>KC Medien AG</th>\n",
       "      <th>Nora Ephron Productions</th>\n",
       "    </tr>\n",
       "  </thead>\n",
       "  <tbody>\n",
       "    <tr>\n",
       "      <th>769</th>\n",
       "      <td>tt1449283</td>\n",
       "      <td>1.425344</td>\n",
       "      <td>30000000</td>\n",
       "      <td>14460000</td>\n",
       "      <td>Winnie the Pooh</td>\n",
       "      <td>Jim Cummings|Travis Oates|Jim Cummings|Bud Luc...</td>\n",
       "      <td>Stephen Anderson|Don Hall</td>\n",
       "      <td>Oh Pooh.</td>\n",
       "      <td>During an ordinary day in Hundred Acre Wood, W...</td>\n",
       "      <td>63</td>\n",
       "      <td>...</td>\n",
       "      <td>NaN</td>\n",
       "      <td>NaN</td>\n",
       "      <td>NaN</td>\n",
       "      <td>NaN</td>\n",
       "      <td>NaN</td>\n",
       "      <td>NaN</td>\n",
       "      <td>NaN</td>\n",
       "      <td>NaN</td>\n",
       "      <td>NaN</td>\n",
       "      <td>NaN</td>\n",
       "    </tr>\n",
       "  </tbody>\n",
       "</table>\n",
       "<p>1 rows × 5216 columns</p>\n",
       "</div>"
      ],
      "text/plain": [
       "       imdb_id  popularity    budget   revenue   original_title  \\\n",
       "769  tt1449283    1.425344  30000000  14460000  Winnie the Pooh   \n",
       "\n",
       "                                                  cast  \\\n",
       "769  Jim Cummings|Travis Oates|Jim Cummings|Bud Luc...   \n",
       "\n",
       "                      director   tagline  \\\n",
       "769  Stephen Anderson|Don Hall  Oh Pooh.   \n",
       "\n",
       "                                              overview  runtime  \\\n",
       "769  During an ordinary day in Hundred Acre Wood, W...       63   \n",
       "\n",
       "              ...            Charenton Productions Hollywood Partners  \\\n",
       "769           ...                              NaN                NaN   \n",
       "\n",
       "    Walrus & Associates  Sweetpea Entertainment  SNL Studios  JLT Productions  \\\n",
       "769                 NaN                     NaN          NaN              NaN   \n",
       "\n",
       "     Springwood Productions  Capella International  KC Medien AG  \\\n",
       "769                     NaN                    NaN           NaN   \n",
       "\n",
       "     Nora Ephron Productions  \n",
       "769                      NaN  \n",
       "\n",
       "[1 rows x 5216 columns]"
      ]
     },
     "execution_count": 13,
     "metadata": {},
     "output_type": "execute_result"
    }
   ],
   "source": [
    "data[data.runtime == data.runtime.min()]"
   ]
  },
  {
   "cell_type": "code",
   "execution_count": 14,
   "metadata": {},
   "outputs": [],
   "source": [
    "answer_ls.append(3)"
   ]
  },
  {
   "cell_type": "markdown",
   "metadata": {},
   "source": [
    "# 4. Средняя длительность фильма?\n",
    "\n",
    "Варианты ответов:\n",
    "1. 115\n",
    "2. 110\n",
    "3. 105\n",
    "4. 120\n",
    "5. 100\n"
   ]
  },
  {
   "cell_type": "code",
   "execution_count": 15,
   "metadata": {},
   "outputs": [
    {
     "data": {
      "text/plain": [
       "109.65343915343915"
      ]
     },
     "execution_count": 15,
     "metadata": {},
     "output_type": "execute_result"
    }
   ],
   "source": [
    "data.runtime.mean()"
   ]
  },
  {
   "cell_type": "code",
   "execution_count": 16,
   "metadata": {},
   "outputs": [],
   "source": [
    "answer_ls.append(2)"
   ]
  },
  {
   "cell_type": "markdown",
   "metadata": {},
   "source": [
    "# 5. Средняя длительность фильма по медиане?\n",
    "Варианты ответов:\n",
    "1. 106\n",
    "2. 112\n",
    "3. 101\n",
    "4. 120\n",
    "5. 115\n",
    "\n",
    "\n"
   ]
  },
  {
   "cell_type": "code",
   "execution_count": 17,
   "metadata": {},
   "outputs": [
    {
     "data": {
      "text/plain": [
       "106.5"
      ]
     },
     "execution_count": 17,
     "metadata": {},
     "output_type": "execute_result"
    }
   ],
   "source": [
    "data.runtime.median()"
   ]
  },
  {
   "cell_type": "code",
   "execution_count": 18,
   "metadata": {},
   "outputs": [],
   "source": [
    "answer_ls.append(1)"
   ]
  },
  {
   "cell_type": "markdown",
   "metadata": {},
   "source": [
    "# 6. Какой самый прибыльный фильм?\n",
    "Варианты ответов:\n",
    "1. The Avengers\ttt0848228\n",
    "2. Minions\ttt2293640\n",
    "3. Star Wars: The Force Awakens\ttt2488496\n",
    "4. Furious 7\ttt2820852\n",
    "5. Avatar\ttt0499549"
   ]
  },
  {
   "cell_type": "code",
   "execution_count": 19,
   "metadata": {},
   "outputs": [
    {
     "data": {
      "text/html": [
       "<div>\n",
       "<style scoped>\n",
       "    .dataframe tbody tr th:only-of-type {\n",
       "        vertical-align: middle;\n",
       "    }\n",
       "\n",
       "    .dataframe tbody tr th {\n",
       "        vertical-align: top;\n",
       "    }\n",
       "\n",
       "    .dataframe thead th {\n",
       "        text-align: right;\n",
       "    }\n",
       "</style>\n",
       "<table border=\"1\" class=\"dataframe\">\n",
       "  <thead>\n",
       "    <tr style=\"text-align: right;\">\n",
       "      <th></th>\n",
       "      <th>imdb_id</th>\n",
       "      <th>popularity</th>\n",
       "      <th>budget</th>\n",
       "      <th>revenue</th>\n",
       "      <th>original_title</th>\n",
       "      <th>cast</th>\n",
       "      <th>director</th>\n",
       "      <th>tagline</th>\n",
       "      <th>overview</th>\n",
       "      <th>runtime</th>\n",
       "      <th>...</th>\n",
       "      <th>Charenton Productions</th>\n",
       "      <th>Hollywood Partners</th>\n",
       "      <th>Walrus &amp; Associates</th>\n",
       "      <th>Sweetpea Entertainment</th>\n",
       "      <th>SNL Studios</th>\n",
       "      <th>JLT Productions</th>\n",
       "      <th>Springwood Productions</th>\n",
       "      <th>Capella International</th>\n",
       "      <th>KC Medien AG</th>\n",
       "      <th>Nora Ephron Productions</th>\n",
       "    </tr>\n",
       "  </thead>\n",
       "  <tbody>\n",
       "    <tr>\n",
       "      <th>239</th>\n",
       "      <td>tt0499549</td>\n",
       "      <td>9.432768</td>\n",
       "      <td>237000000</td>\n",
       "      <td>2781505847</td>\n",
       "      <td>Avatar</td>\n",
       "      <td>Sam Worthington|Zoe Saldana|Sigourney Weaver|S...</td>\n",
       "      <td>James Cameron</td>\n",
       "      <td>Enter the World of Pandora.</td>\n",
       "      <td>In the 22nd century, a paraplegic Marine is di...</td>\n",
       "      <td>162</td>\n",
       "      <td>...</td>\n",
       "      <td>NaN</td>\n",
       "      <td>NaN</td>\n",
       "      <td>NaN</td>\n",
       "      <td>NaN</td>\n",
       "      <td>NaN</td>\n",
       "      <td>NaN</td>\n",
       "      <td>NaN</td>\n",
       "      <td>NaN</td>\n",
       "      <td>NaN</td>\n",
       "      <td>NaN</td>\n",
       "    </tr>\n",
       "  </tbody>\n",
       "</table>\n",
       "<p>1 rows × 5216 columns</p>\n",
       "</div>"
      ],
      "text/plain": [
       "       imdb_id  popularity     budget     revenue original_title  \\\n",
       "239  tt0499549    9.432768  237000000  2781505847         Avatar   \n",
       "\n",
       "                                                  cast       director  \\\n",
       "239  Sam Worthington|Zoe Saldana|Sigourney Weaver|S...  James Cameron   \n",
       "\n",
       "                         tagline  \\\n",
       "239  Enter the World of Pandora.   \n",
       "\n",
       "                                              overview  runtime  \\\n",
       "239  In the 22nd century, a paraplegic Marine is di...      162   \n",
       "\n",
       "              ...            Charenton Productions Hollywood Partners  \\\n",
       "239           ...                              NaN                NaN   \n",
       "\n",
       "    Walrus & Associates  Sweetpea Entertainment  SNL Studios  JLT Productions  \\\n",
       "239                 NaN                     NaN          NaN              NaN   \n",
       "\n",
       "     Springwood Productions  Capella International  KC Medien AG  \\\n",
       "239                     NaN                    NaN           NaN   \n",
       "\n",
       "     Nora Ephron Productions  \n",
       "239                      NaN  \n",
       "\n",
       "[1 rows x 5216 columns]"
      ]
     },
     "execution_count": 19,
     "metadata": {},
     "output_type": "execute_result"
    }
   ],
   "source": [
    "data[data.profit == data.profit.max()]"
   ]
  },
  {
   "cell_type": "code",
   "execution_count": 20,
   "metadata": {},
   "outputs": [],
   "source": [
    "answer_ls.append(5)"
   ]
  },
  {
   "cell_type": "markdown",
   "metadata": {},
   "source": [
    "# 7. Какой фильм самый убыточный?\n",
    "Варианты ответов:\n",
    "1. Supernova tt0134983\n",
    "2. The Warrior's Way tt1032751\n",
    "3. Flushed Away\ttt0424095\n",
    "4. The Adventures of Pluto Nash\ttt0180052\n",
    "5. The Lone Ranger\ttt1210819"
   ]
  },
  {
   "cell_type": "code",
   "execution_count": 21,
   "metadata": {},
   "outputs": [
    {
     "data": {
      "text/html": [
       "<div>\n",
       "<style scoped>\n",
       "    .dataframe tbody tr th:only-of-type {\n",
       "        vertical-align: middle;\n",
       "    }\n",
       "\n",
       "    .dataframe tbody tr th {\n",
       "        vertical-align: top;\n",
       "    }\n",
       "\n",
       "    .dataframe thead th {\n",
       "        text-align: right;\n",
       "    }\n",
       "</style>\n",
       "<table border=\"1\" class=\"dataframe\">\n",
       "  <thead>\n",
       "    <tr style=\"text-align: right;\">\n",
       "      <th></th>\n",
       "      <th>imdb_id</th>\n",
       "      <th>popularity</th>\n",
       "      <th>budget</th>\n",
       "      <th>revenue</th>\n",
       "      <th>original_title</th>\n",
       "      <th>cast</th>\n",
       "      <th>director</th>\n",
       "      <th>tagline</th>\n",
       "      <th>overview</th>\n",
       "      <th>runtime</th>\n",
       "      <th>...</th>\n",
       "      <th>Charenton Productions</th>\n",
       "      <th>Hollywood Partners</th>\n",
       "      <th>Walrus &amp; Associates</th>\n",
       "      <th>Sweetpea Entertainment</th>\n",
       "      <th>SNL Studios</th>\n",
       "      <th>JLT Productions</th>\n",
       "      <th>Springwood Productions</th>\n",
       "      <th>Capella International</th>\n",
       "      <th>KC Medien AG</th>\n",
       "      <th>Nora Ephron Productions</th>\n",
       "    </tr>\n",
       "  </thead>\n",
       "  <tbody>\n",
       "    <tr>\n",
       "      <th>491</th>\n",
       "      <td>tt1032751</td>\n",
       "      <td>0.25054</td>\n",
       "      <td>425000000</td>\n",
       "      <td>11087569</td>\n",
       "      <td>The Warrior's Way</td>\n",
       "      <td>Kate Bosworth|Jang Dong-gun|Geoffrey Rush|Dann...</td>\n",
       "      <td>Sngmoo Lee</td>\n",
       "      <td>Assassin. Hero. Legend.</td>\n",
       "      <td>An Asian assassin (Dong-gun Jang) is forced to...</td>\n",
       "      <td>100</td>\n",
       "      <td>...</td>\n",
       "      <td>NaN</td>\n",
       "      <td>NaN</td>\n",
       "      <td>NaN</td>\n",
       "      <td>NaN</td>\n",
       "      <td>NaN</td>\n",
       "      <td>NaN</td>\n",
       "      <td>NaN</td>\n",
       "      <td>NaN</td>\n",
       "      <td>NaN</td>\n",
       "      <td>NaN</td>\n",
       "    </tr>\n",
       "  </tbody>\n",
       "</table>\n",
       "<p>1 rows × 5216 columns</p>\n",
       "</div>"
      ],
      "text/plain": [
       "       imdb_id  popularity     budget   revenue     original_title  \\\n",
       "491  tt1032751     0.25054  425000000  11087569  The Warrior's Way   \n",
       "\n",
       "                                                  cast    director  \\\n",
       "491  Kate Bosworth|Jang Dong-gun|Geoffrey Rush|Dann...  Sngmoo Lee   \n",
       "\n",
       "                     tagline  \\\n",
       "491  Assassin. Hero. Legend.   \n",
       "\n",
       "                                              overview  runtime  \\\n",
       "491  An Asian assassin (Dong-gun Jang) is forced to...      100   \n",
       "\n",
       "              ...            Charenton Productions Hollywood Partners  \\\n",
       "491           ...                              NaN                NaN   \n",
       "\n",
       "    Walrus & Associates  Sweetpea Entertainment  SNL Studios  JLT Productions  \\\n",
       "491                 NaN                     NaN          NaN              NaN   \n",
       "\n",
       "     Springwood Productions  Capella International  KC Medien AG  \\\n",
       "491                     NaN                    NaN           NaN   \n",
       "\n",
       "     Nora Ephron Productions  \n",
       "491                      NaN  \n",
       "\n",
       "[1 rows x 5216 columns]"
      ]
     },
     "execution_count": 21,
     "metadata": {},
     "output_type": "execute_result"
    }
   ],
   "source": [
    "data[data.profit == data.profit.min()]"
   ]
  },
  {
   "cell_type": "code",
   "execution_count": 22,
   "metadata": {},
   "outputs": [],
   "source": [
    "answer_ls.append(2)"
   ]
  },
  {
   "cell_type": "markdown",
   "metadata": {},
   "source": [
    "# 8. Сколько всего фильмов в прибыли?\n",
    "Варианты ответов:\n",
    "1. 1478\n",
    "2. 1520\n",
    "3. 1241\n",
    "4. 1135\n",
    "5. 1398\n"
   ]
  },
  {
   "cell_type": "code",
   "execution_count": 23,
   "metadata": {},
   "outputs": [
    {
     "data": {
      "text/plain": [
       "1478"
      ]
     },
     "execution_count": 23,
     "metadata": {},
     "output_type": "execute_result"
    }
   ],
   "source": [
    "len(data[data.profit > 0])"
   ]
  },
  {
   "cell_type": "code",
   "execution_count": 24,
   "metadata": {},
   "outputs": [],
   "source": [
    "answer_ls.append(1)"
   ]
  },
  {
   "cell_type": "markdown",
   "metadata": {},
   "source": [
    "# 9. Самый прибыльный фильм в 2008 году?\n",
    "Варианты ответов:\n",
    "1. Madagascar: Escape 2 Africa\ttt0479952\n",
    "2. Iron Man\ttt0371746\n",
    "3. Kung Fu Panda\ttt0441773\n",
    "4. The Dark Knight\ttt0468569\n",
    "5. Mamma Mia!\ttt0795421"
   ]
  },
  {
   "cell_type": "code",
   "execution_count": 25,
   "metadata": {},
   "outputs": [
    {
     "data": {
      "text/html": [
       "<div>\n",
       "<style scoped>\n",
       "    .dataframe tbody tr th:only-of-type {\n",
       "        vertical-align: middle;\n",
       "    }\n",
       "\n",
       "    .dataframe tbody tr th {\n",
       "        vertical-align: top;\n",
       "    }\n",
       "\n",
       "    .dataframe thead th {\n",
       "        text-align: right;\n",
       "    }\n",
       "</style>\n",
       "<table border=\"1\" class=\"dataframe\">\n",
       "  <thead>\n",
       "    <tr style=\"text-align: right;\">\n",
       "      <th></th>\n",
       "      <th>imdb_id</th>\n",
       "      <th>popularity</th>\n",
       "      <th>budget</th>\n",
       "      <th>revenue</th>\n",
       "      <th>original_title</th>\n",
       "      <th>cast</th>\n",
       "      <th>director</th>\n",
       "      <th>tagline</th>\n",
       "      <th>overview</th>\n",
       "      <th>runtime</th>\n",
       "      <th>...</th>\n",
       "      <th>Charenton Productions</th>\n",
       "      <th>Hollywood Partners</th>\n",
       "      <th>Walrus &amp; Associates</th>\n",
       "      <th>Sweetpea Entertainment</th>\n",
       "      <th>SNL Studios</th>\n",
       "      <th>JLT Productions</th>\n",
       "      <th>Springwood Productions</th>\n",
       "      <th>Capella International</th>\n",
       "      <th>KC Medien AG</th>\n",
       "      <th>Nora Ephron Productions</th>\n",
       "    </tr>\n",
       "  </thead>\n",
       "  <tbody>\n",
       "    <tr>\n",
       "      <th>600</th>\n",
       "      <td>tt0468569</td>\n",
       "      <td>8.466668</td>\n",
       "      <td>185000000</td>\n",
       "      <td>1001921825</td>\n",
       "      <td>The Dark Knight</td>\n",
       "      <td>Christian Bale|Michael Caine|Heath Ledger|Aaro...</td>\n",
       "      <td>Christopher Nolan</td>\n",
       "      <td>Why So Serious?</td>\n",
       "      <td>Batman raises the stakes in his war on crime. ...</td>\n",
       "      <td>152</td>\n",
       "      <td>...</td>\n",
       "      <td>NaN</td>\n",
       "      <td>NaN</td>\n",
       "      <td>NaN</td>\n",
       "      <td>NaN</td>\n",
       "      <td>NaN</td>\n",
       "      <td>NaN</td>\n",
       "      <td>NaN</td>\n",
       "      <td>NaN</td>\n",
       "      <td>NaN</td>\n",
       "      <td>NaN</td>\n",
       "    </tr>\n",
       "  </tbody>\n",
       "</table>\n",
       "<p>1 rows × 5216 columns</p>\n",
       "</div>"
      ],
      "text/plain": [
       "       imdb_id  popularity     budget     revenue   original_title  \\\n",
       "600  tt0468569    8.466668  185000000  1001921825  The Dark Knight   \n",
       "\n",
       "                                                  cast           director  \\\n",
       "600  Christian Bale|Michael Caine|Heath Ledger|Aaro...  Christopher Nolan   \n",
       "\n",
       "             tagline                                           overview  \\\n",
       "600  Why So Serious?  Batman raises the stakes in his war on crime. ...   \n",
       "\n",
       "     runtime           ...            Charenton Productions  \\\n",
       "600      152           ...                              NaN   \n",
       "\n",
       "    Hollywood Partners Walrus & Associates  Sweetpea Entertainment  \\\n",
       "600                NaN                 NaN                     NaN   \n",
       "\n",
       "     SNL Studios  JLT Productions  Springwood Productions  \\\n",
       "600          NaN              NaN                     NaN   \n",
       "\n",
       "     Capella International  KC Medien AG  Nora Ephron Productions  \n",
       "600                    NaN           NaN                      NaN  \n",
       "\n",
       "[1 rows x 5216 columns]"
      ]
     },
     "execution_count": 25,
     "metadata": {},
     "output_type": "execute_result"
    }
   ],
   "source": [
    "data9 = data[data.release_year == 2008]\n",
    "data9[data9.profit == data9.profit.max()]"
   ]
  },
  {
   "cell_type": "code",
   "execution_count": 26,
   "metadata": {},
   "outputs": [],
   "source": [
    "answer_ls.append(4)"
   ]
  },
  {
   "cell_type": "markdown",
   "metadata": {},
   "source": [
    "# 10. Самый убыточный фильм за период с 2012 по 2014 (включительно)?\n",
    "Варианты ответов:\n",
    "1. Winter's Tale\ttt1837709\n",
    "2. Stolen\ttt1656186\n",
    "3. Broken City\ttt1235522\n",
    "4. Upside Down\ttt1374992\n",
    "5. The Lone Ranger\ttt1210819\n"
   ]
  },
  {
   "cell_type": "code",
   "execution_count": 27,
   "metadata": {},
   "outputs": [
    {
     "data": {
      "text/html": [
       "<div>\n",
       "<style scoped>\n",
       "    .dataframe tbody tr th:only-of-type {\n",
       "        vertical-align: middle;\n",
       "    }\n",
       "\n",
       "    .dataframe tbody tr th {\n",
       "        vertical-align: top;\n",
       "    }\n",
       "\n",
       "    .dataframe thead th {\n",
       "        text-align: right;\n",
       "    }\n",
       "</style>\n",
       "<table border=\"1\" class=\"dataframe\">\n",
       "  <thead>\n",
       "    <tr style=\"text-align: right;\">\n",
       "      <th></th>\n",
       "      <th>imdb_id</th>\n",
       "      <th>popularity</th>\n",
       "      <th>budget</th>\n",
       "      <th>revenue</th>\n",
       "      <th>original_title</th>\n",
       "      <th>cast</th>\n",
       "      <th>director</th>\n",
       "      <th>tagline</th>\n",
       "      <th>overview</th>\n",
       "      <th>runtime</th>\n",
       "      <th>...</th>\n",
       "      <th>Charenton Productions</th>\n",
       "      <th>Hollywood Partners</th>\n",
       "      <th>Walrus &amp; Associates</th>\n",
       "      <th>Sweetpea Entertainment</th>\n",
       "      <th>SNL Studios</th>\n",
       "      <th>JLT Productions</th>\n",
       "      <th>Springwood Productions</th>\n",
       "      <th>Capella International</th>\n",
       "      <th>KC Medien AG</th>\n",
       "      <th>Nora Ephron Productions</th>\n",
       "    </tr>\n",
       "  </thead>\n",
       "  <tbody>\n",
       "    <tr>\n",
       "      <th>1246</th>\n",
       "      <td>tt1210819</td>\n",
       "      <td>1.21451</td>\n",
       "      <td>255000000</td>\n",
       "      <td>89289910</td>\n",
       "      <td>The Lone Ranger</td>\n",
       "      <td>Johnny Depp|Armie Hammer|William Fichtner|Hele...</td>\n",
       "      <td>Gore Verbinski</td>\n",
       "      <td>Never Take Off the Mask</td>\n",
       "      <td>The Texas Rangers chase down a gang of outlaws...</td>\n",
       "      <td>149</td>\n",
       "      <td>...</td>\n",
       "      <td>NaN</td>\n",
       "      <td>NaN</td>\n",
       "      <td>NaN</td>\n",
       "      <td>NaN</td>\n",
       "      <td>NaN</td>\n",
       "      <td>NaN</td>\n",
       "      <td>NaN</td>\n",
       "      <td>NaN</td>\n",
       "      <td>NaN</td>\n",
       "      <td>NaN</td>\n",
       "    </tr>\n",
       "  </tbody>\n",
       "</table>\n",
       "<p>1 rows × 5216 columns</p>\n",
       "</div>"
      ],
      "text/plain": [
       "        imdb_id  popularity     budget   revenue   original_title  \\\n",
       "1246  tt1210819     1.21451  255000000  89289910  The Lone Ranger   \n",
       "\n",
       "                                                   cast        director  \\\n",
       "1246  Johnny Depp|Armie Hammer|William Fichtner|Hele...  Gore Verbinski   \n",
       "\n",
       "                      tagline  \\\n",
       "1246  Never Take Off the Mask   \n",
       "\n",
       "                                               overview  runtime  \\\n",
       "1246  The Texas Rangers chase down a gang of outlaws...      149   \n",
       "\n",
       "               ...            Charenton Productions Hollywood Partners  \\\n",
       "1246           ...                              NaN                NaN   \n",
       "\n",
       "     Walrus & Associates  Sweetpea Entertainment  SNL Studios  \\\n",
       "1246                 NaN                     NaN          NaN   \n",
       "\n",
       "      JLT Productions  Springwood Productions  Capella International  \\\n",
       "1246              NaN                     NaN                    NaN   \n",
       "\n",
       "      KC Medien AG  Nora Ephron Productions  \n",
       "1246           NaN                      NaN  \n",
       "\n",
       "[1 rows x 5216 columns]"
      ]
     },
     "execution_count": 27,
     "metadata": {},
     "output_type": "execute_result"
    }
   ],
   "source": [
    "data10 = data[(data.release_year >= 2012)&(data.release_year <= 2014)]\n",
    "data10[data10.profit == data10.profit.min()]"
   ]
  },
  {
   "cell_type": "code",
   "execution_count": 28,
   "metadata": {},
   "outputs": [],
   "source": [
    "answer_ls.append(5)"
   ]
  },
  {
   "cell_type": "markdown",
   "metadata": {},
   "source": [
    "# 11. Какого жанра фильмов больше всего?\n",
    "Варианты ответов:\n",
    "1. Action\n",
    "2. Adventure\n",
    "3. Drama\n",
    "4. Comedy\n",
    "5. Thriller"
   ]
  },
  {
   "cell_type": "code",
   "execution_count": 29,
   "metadata": {},
   "outputs": [
    {
     "data": {
      "text/plain": [
       "imdb_id                                                tt0369610tt1392190tt2908446tt2488496tt2820852t...\n",
       "popularity                                                                                       2949.55\n",
       "budget                                                                                      103018157187\n",
       "revenue                                                                                     293496179097\n",
       "original_title                                         Jurassic WorldMad Max: Fury RoadInsurgentStar ...\n",
       "cast                                                   Chris Pratt|Bryce Dallas Howard|Irrfan Khan|Vi...\n",
       "director                                               Colin TrevorrowGeorge MillerRobert SchwentkeJ....\n",
       "tagline                                                The park is open.What a Lovely Day.One Choice ...\n",
       "overview                                               Twenty-two years after the events of Jurassic ...\n",
       "runtime                                                                                           207245\n",
       "genres                                                 Action|Adventure|Science Fiction|ThrillerActio...\n",
       "production_companies                                   Universal Studios|Amblin Entertainment|Legenda...\n",
       "release_date                                           6/9/20155/13/20153/18/201512/15/20154/1/201512...\n",
       "vote_count                                                                                       1484910\n",
       "vote_average                                                                                     11606.3\n",
       "release_year                                                                                     3794859\n",
       "profit                                                                                      190478021910\n",
       "Action                                                                                               583\n",
       "Adventure                                                                                            416\n",
       "Science Fiction                                                                                      248\n",
       "Thriller                                                                                             597\n",
       "Fantasy                                                                                              223\n",
       "Crime                                                                                                315\n",
       "Drama                                                                                                782\n",
       "Western                                                                                               20\n",
       "Animation                                                                                            139\n",
       "Comedy                                                                                               683\n",
       "Family                                                                                               260\n",
       "Mystery                                                                                              168\n",
       "Romance                                                                                              308\n",
       "                                                                             ...                        \n",
       "Clipsal Films                                                                                          1\n",
       "Nine Yards Productions                                                                                 1\n",
       "Rational Packaging Company                                                                             1\n",
       "Fat Free                                                                                               1\n",
       "Mars Production Pty. Ltd.                                                                              1\n",
       "The Canton Company                                                                                     2\n",
       "Red Horizon Productions                                                                                1\n",
       "Caro-McLeod                                                                                            1\n",
       "Katira Productions GmbH & Co. KG                                                                       1\n",
       "Fox Animation Studios                                                                                  1\n",
       "Neo Art & Logic                                                                                        1\n",
       "Wes Craven Films                                                                                       1\n",
       "Munich Film Partners & Company (MFP) ROE Production                                                    1\n",
       "Seven Arts Pictures                                                                                    1\n",
       "Finding Forrester Productions                                                                          1\n",
       "Fountainbridge Films                                                                                   1\n",
       "Cruella Productions                                                                                    1\n",
       "Triple Threat Talent                                                                                   1\n",
       "Screenland Pictures                                                                                    1\n",
       "Davis-Panzer Productions                                                                               1\n",
       "Charenton Productions                                                                                  1\n",
       "Hollywood Partners                                                                                     1\n",
       "Walrus & Associates                                                                                    1\n",
       "Sweetpea Entertainment                                                                                 1\n",
       "SNL Studios                                                                                            1\n",
       "JLT Productions                                                                                        1\n",
       "Springwood Productions                                                                                 1\n",
       "Capella International                                                                                  1\n",
       "KC Medien AG                                                                                           1\n",
       "Nora Ephron Productions                                                                                1\n",
       "Length: 5216, dtype: object"
      ]
     },
     "execution_count": 29,
     "metadata": {},
     "output_type": "execute_result"
    }
   ],
   "source": [
    "data.sum()"
   ]
  },
  {
   "cell_type": "code",
   "execution_count": 30,
   "metadata": {},
   "outputs": [],
   "source": [
    "answer_ls.append(3)"
   ]
  },
  {
   "cell_type": "markdown",
   "metadata": {},
   "source": [
    "# 12. Какого жанра среди прибыльных фильмов больше всего?\n",
    "Варианты ответов:\n",
    "1. Drama\n",
    "2. Comedy\n",
    "3. Action\n",
    "4. Thriller\n",
    "5. Adventure"
   ]
  },
  {
   "cell_type": "code",
   "execution_count": 32,
   "metadata": {},
   "outputs": [
    {
     "data": {
      "text/plain": [
       "imdb_id                                                tt0369610tt1392190tt2908446tt2488496tt2820852t...\n",
       "popularity                                                                                        2635.4\n",
       "budget                                                                                       84870975004\n",
       "revenue                                                                                     283163266374\n",
       "original_title                                         Jurassic WorldMad Max: Fury RoadInsurgentStar ...\n",
       "cast                                                   Chris Pratt|Bryce Dallas Howard|Irrfan Khan|Vi...\n",
       "director                                               Colin TrevorrowGeorge MillerRobert SchwentkeJ....\n",
       "tagline                                                The park is open.What a Lovely Day.One Choice ...\n",
       "overview                                               Twenty-two years after the events of Jurassic ...\n",
       "runtime                                                                                           162767\n",
       "genres                                                 Action|Adventure|Science Fiction|ThrillerActio...\n",
       "production_companies                                   Universal Studios|Amblin Entertainment|Legenda...\n",
       "release_date                                           6/9/20155/13/20153/18/201512/15/20154/1/201512...\n",
       "vote_count                                                                                       1398081\n",
       "vote_average                                                                                      9222.9\n",
       "release_year                                                                                     2967882\n",
       "profit                                                                                      198292291370\n",
       "Action                                                                                               444\n",
       "Adventure                                                                                            337\n",
       "Science Fiction                                                                                      195\n",
       "Thriller                                                                                             446\n",
       "Fantasy                                                                                              188\n",
       "Crime                                                                                                231\n",
       "Drama                                                                                                560\n",
       "Western                                                                                               12\n",
       "Animation                                                                                            120\n",
       "Comedy                                                                                               551\n",
       "Family                                                                                               226\n",
       "Mystery                                                                                              119\n",
       "Romance                                                                                              242\n",
       "                                                                             ...                        \n",
       "Clipsal Films                                                                                          1\n",
       "Nine Yards Productions                                                                                 1\n",
       "Rational Packaging Company                                                                             1\n",
       "Fat Free                                                                                               1\n",
       "Mars Production Pty. Ltd.                                                                              0\n",
       "The Canton Company                                                                                     0\n",
       "Red Horizon Productions                                                                                0\n",
       "Caro-McLeod                                                                                            1\n",
       "Katira Productions GmbH & Co. KG                                                                       1\n",
       "Fox Animation Studios                                                                                  0\n",
       "Neo Art & Logic                                                                                        1\n",
       "Wes Craven Films                                                                                       1\n",
       "Munich Film Partners & Company (MFP) ROE Production                                                    1\n",
       "Seven Arts Pictures                                                                                    1\n",
       "Finding Forrester Productions                                                                          1\n",
       "Fountainbridge Films                                                                                   1\n",
       "Cruella Productions                                                                                    1\n",
       "Triple Threat Talent                                                                                   1\n",
       "Screenland Pictures                                                                                    0\n",
       "Davis-Panzer Productions                                                                               0\n",
       "Charenton Productions                                                                                  0\n",
       "Hollywood Partners                                                                                     0\n",
       "Walrus & Associates                                                                                    0\n",
       "Sweetpea Entertainment                                                                                 0\n",
       "SNL Studios                                                                                            0\n",
       "JLT Productions                                                                                        1\n",
       "Springwood Productions                                                                                 1\n",
       "Capella International                                                                                  0\n",
       "KC Medien AG                                                                                           0\n",
       "Nora Ephron Productions                                                                                0\n",
       "Length: 5216, dtype: object"
      ]
     },
     "execution_count": 32,
     "metadata": {},
     "output_type": "execute_result"
    }
   ],
   "source": [
    "data12 = data[data.profit > 0]\n",
    "data12.sum()"
   ]
  },
  {
   "cell_type": "code",
   "execution_count": 33,
   "metadata": {},
   "outputs": [],
   "source": [
    "answer_ls.append(1)"
   ]
  },
  {
   "cell_type": "markdown",
   "metadata": {},
   "source": [
    "# 13. Кто из режиссеров снял больше всего фильмов?\n",
    "Варианты ответов:\n",
    "1. Steven Spielberg\n",
    "2. Ridley Scott \n",
    "3. Steven Soderbergh\n",
    "4. Christopher Nolan\n",
    "5. Clint Eastwood"
   ]
  },
  {
   "cell_type": "code",
   "execution_count": 34,
   "metadata": {},
   "outputs": [
    {
     "data": {
      "text/plain": [
       "Steven Soderbergh                13\n",
       "Clint Eastwood                   12\n",
       "Ridley Scott                     12\n",
       "Shawn Levy                       10\n",
       "Steven Spielberg                 10\n",
       "Christopher Nolan                 8\n",
       "Peter Jackson                     8\n",
       "Michael Bay                       8\n",
       "Todd Phillips                     8\n",
       "Ron Howard                        8\n",
       "Bobby Farrelly|Peter Farrelly     8\n",
       "Adam Shankman                     8\n",
       "Gore Verbinski                    8\n",
       "Tim Burton                        8\n",
       "M. Night Shyamalan                8\n",
       "Antoine Fuqua                     8\n",
       "Dennis Dugan                      7\n",
       "Robert Rodriguez                  7\n",
       "Paul W.S. Anderson                7\n",
       "Marc Forster                      7\n",
       "Lasse HallstrÃ¶m                  7\n",
       "Brett Ratner                      7\n",
       "Zack Snyder                       6\n",
       "Raja Gosnell                      6\n",
       "Martin Scorsese                   6\n",
       "Rob Cohen                         6\n",
       "Peter Segal                       6\n",
       "Robert Luketic                    6\n",
       "Tony Scott                        6\n",
       "Andy Fickman                      6\n",
       "                                 ..\n",
       "Sam Taylor-Johnson                1\n",
       "Chad Stahelski|David Leitch       1\n",
       "Phil Traill                       1\n",
       "Jesse Peretz                      1\n",
       "Todd Lincoln                      1\n",
       "Guy Ferland                       1\n",
       "Kevin Reynolds                    1\n",
       "Julie Anne Robinson               1\n",
       "Tamra Davis                       1\n",
       "Ericson Core                      1\n",
       "Mike Judge                        1\n",
       "James Foley                       1\n",
       "Scott Speer                       1\n",
       "Tim Johnson                       1\n",
       "Mike Flanagan                     1\n",
       "Stephen Hopkins                   1\n",
       "E. Elias Merhige                  1\n",
       "Floria Sigismondi                 1\n",
       "Cody Cameron|Kris Pearn           1\n",
       "Harold Cronk                      1\n",
       "Dan Rush                          1\n",
       "Juan Carlos Fresnadillo           1\n",
       "Todd Strauss-Schulson             1\n",
       "Anand Tucker                      1\n",
       "Roberts Gannaway                  1\n",
       "Michael Winterbottom              1\n",
       "Beeban Kidron                     1\n",
       "Richard Shepard                   1\n",
       "Howard McCain                     1\n",
       "Ralph Zondag|Eric Leighton        1\n",
       "Name: director, Length: 958, dtype: int64"
      ]
     },
     "execution_count": 34,
     "metadata": {},
     "output_type": "execute_result"
    }
   ],
   "source": [
    "data.director.value_counts()"
   ]
  },
  {
   "cell_type": "code",
   "execution_count": 35,
   "metadata": {},
   "outputs": [],
   "source": [
    "answer_ls.append(3)"
   ]
  },
  {
   "cell_type": "markdown",
   "metadata": {},
   "source": [
    "# 14. Кто из режиссеров снял больше всего Прибыльных фильмов?\n",
    "Варианты ответов:\n",
    "1. Steven Soderbergh\n",
    "2. Clint Eastwood\n",
    "3. Steven Spielberg\n",
    "4. Ridley Scott\n",
    "5. Christopher Nolan"
   ]
  },
  {
   "cell_type": "code",
   "execution_count": 36,
   "metadata": {},
   "outputs": [
    {
     "data": {
      "text/plain": [
       "Ridley Scott                                       12\n",
       "Steven Soderbergh                                  10\n",
       "Clint Eastwood                                     10\n",
       "Steven Spielberg                                   10\n",
       "Shawn Levy                                          9\n",
       "Peter Jackson                                       8\n",
       "Tim Burton                                          8\n",
       "Antoine Fuqua                                       8\n",
       "Michael Bay                                         8\n",
       "Christopher Nolan                                   8\n",
       "Adam Shankman                                       7\n",
       "Brett Ratner                                        7\n",
       "Todd Phillips                                       7\n",
       "M. Night Shyamalan                                  7\n",
       "Gore Verbinski                                      6\n",
       "David Fincher                                       6\n",
       "Robert Rodriguez                                    6\n",
       "Raja Gosnell                                        6\n",
       "Peter Segal                                         6\n",
       "Robert Zemeckis                                     6\n",
       "Ron Howard                                          6\n",
       "Bobby Farrelly|Peter Farrelly                       6\n",
       "Adam McKay                                          6\n",
       "Zack Snyder                                         6\n",
       "Sam Raimi                                           6\n",
       "Francis Lawrence                                    6\n",
       "Paul W.S. Anderson                                  6\n",
       "Andy Fickman                                        6\n",
       "Tim Story                                           6\n",
       "Dennis Dugan                                        6\n",
       "                                                   ..\n",
       "Jimmy Hayward                                       1\n",
       "Paul Thomas Anderson                                1\n",
       "Ted Demme                                           1\n",
       "Ed Gass-Donnelly                                    1\n",
       "Chris Buck|Jennifer Lee                             1\n",
       "Dan Scanlon                                         1\n",
       "Christopher Guest                                   1\n",
       "Joel Zwick                                          1\n",
       "J.B. Rogers                                         1\n",
       "Kevin Munroe                                        1\n",
       "Max Joseph                                          1\n",
       "Jim Fall                                            1\n",
       "Peter Sollett                                       1\n",
       "Jean-FranÃ§ois Richet                               1\n",
       "James Gunn                                          1\n",
       "Alan Poul                                           1\n",
       "Robert Rodriguez|Frank Miller|Quentin Tarantino     1\n",
       "Ryan Murphy                                         1\n",
       "Philip G. Atwell                                    1\n",
       "Paul Tibbitt                                        1\n",
       "Mark Osborne                                        1\n",
       "Xavier Gens                                         1\n",
       "Pete Docter                                         1\n",
       "Alexander Witt                                      1\n",
       "Tom McCarthy                                        1\n",
       "Kirsten Sheridan                                    1\n",
       "Patty Jenkins                                       1\n",
       "Uwe Boll                                            1\n",
       "Peter Farrelly|Bobby Farrelly                       1\n",
       "Chris Williams|Byron Howard                         1\n",
       "Name: director, Length: 774, dtype: int64"
      ]
     },
     "execution_count": 36,
     "metadata": {},
     "output_type": "execute_result"
    }
   ],
   "source": [
    "data12.director.value_counts()"
   ]
  },
  {
   "cell_type": "code",
   "execution_count": 37,
   "metadata": {},
   "outputs": [],
   "source": [
    "answer_ls.append(4)"
   ]
  },
  {
   "cell_type": "markdown",
   "metadata": {},
   "source": [
    "# 15. Кто из режиссеров принес больше всего прибыли?\n",
    "Варианты ответов:\n",
    "1. Steven Spielberg\n",
    "2. Christopher Nolan\n",
    "3. David Yates\n",
    "4. James Cameron\n",
    "5. Peter Jackson\n"
   ]
  },
  {
   "cell_type": "code",
   "execution_count": 38,
   "metadata": {},
   "outputs": [
    {
     "data": {
      "text/plain": [
       "director\n",
       "Peter Jackson                             5202593685\n",
       "David Yates                               3379295625\n",
       "Christopher Nolan                         3162548502\n",
       "J.J. Abrams                               2839169916\n",
       "Michael Bay                               2760938960\n",
       "James Cameron                             2548546718\n",
       "Francis Lawrence                          2476979588\n",
       "Steven Spielberg                          2449700791\n",
       "Joss Whedon                               2424593677\n",
       "Gore Verbinski                            2271362290\n",
       "Sam Raimi                                 2254066354\n",
       "Ridley Scott                              2044035909\n",
       "Chris Columbus                            1906968952\n",
       "Tim Burton                                1724468396\n",
       "Sam Mendes                                1710352791\n",
       "James Wan                                 1620441367\n",
       "Shawn Levy                                1515787063\n",
       "Justin Lin                                1472947074\n",
       "Steven Soderbergh                         1450928588\n",
       "Ron Howard                                1379257991\n",
       "Bill Condon                               1376664544\n",
       "Carlos Saldanha                           1372764975\n",
       "Pierre Coffin|Chris Renaud                1369275870\n",
       "Colin Trevorrow                           1363528810\n",
       "Clint Eastwood                            1329766334\n",
       "Roland Emmerich                           1310587076\n",
       "Todd Phillips                             1279393447\n",
       "George Lucas                              1266398328\n",
       "Alfonso CuarÃ³n                           1265157010\n",
       "Raja Gosnell                              1188104000\n",
       "                                             ...    \n",
       "Howard McCain                              -42966317\n",
       "Ronald F. Maxwell                          -43076064\n",
       "George Armitage                            -43191450\n",
       "Demian Lichtenstein                        -43279825\n",
       "Jaco Van Dormael                           -43452791\n",
       "Stephen T. Kay                             -44187007\n",
       "Steven Zaillian                            -45549103\n",
       "Luis Mandoki                               -46383131\n",
       "Antony Hoffman                             -46536031\n",
       "Charles Shyer                              -46604061\n",
       "Martin Brest                               -46733791\n",
       "Brian De Palma                             -47286475\n",
       "Jim Gillespie                              -48583698\n",
       "Michael Caton-Jones                        -48936607\n",
       "Richard Donner                             -49854540\n",
       "Dan St. Pierre                             -51337973\n",
       "Hironobu Sakaguchi|Motonori Sakakibara     -51868170\n",
       "Juan Diego Solanas                         -51893525\n",
       "Walter Hill                                -53111543\n",
       "John Dahl                                  -56190660\n",
       "Rod Lurie                                  -59032852\n",
       "Oliver Hirschbiegel|James McTeigue         -64928486\n",
       "Simon Wells                                -67278066\n",
       "Joby Harold                                -71626175\n",
       "Walter Hill|Jack Sholder                   -75171919\n",
       "David Bowers|Sam Fell                      -84540684\n",
       "Peter Hyams                                -86956545\n",
       "Ron Underwood                              -92896027\n",
       "James L. Brooks                            -96289726\n",
       "Sngmoo Lee                                -413912431\n",
       "Name: profit, Length: 958, dtype: int64"
      ]
     },
     "execution_count": 38,
     "metadata": {},
     "output_type": "execute_result"
    }
   ],
   "source": [
    "data.groupby(['director'])['profit'].sum().sort_values(ascending=False)"
   ]
  },
  {
   "cell_type": "code",
   "execution_count": 39,
   "metadata": {},
   "outputs": [],
   "source": [
    "answer_ls.append(5)"
   ]
  },
  {
   "cell_type": "markdown",
   "metadata": {},
   "source": [
    "# 16. Какой актер принес больше всего прибыли?\n",
    "Варианты ответов:\n",
    "1. Emma Watson\n",
    "2. Johnny Depp\n",
    "3. Michelle Rodriguez\n",
    "4. Orlando Bloom\n",
    "5. Rupert Grint"
   ]
  },
  {
   "cell_type": "code",
   "execution_count": 40,
   "metadata": {},
   "outputs": [
    {
     "name": "stdout",
     "output_type": "stream",
     "text": [
      "6666245597\n",
      "4776417000\n",
      "4608031235\n",
      "5148578162\n",
      "6408638290\n"
     ]
    }
   ],
   "source": [
    "print(data.groupby(['Emma Watson'])['profit'].sum().sort_values(ascending=False).values[0])\n",
    "print(data.groupby(['Johnny Depp'])['profit'].sum().sort_values(ascending=False).values[0])\n",
    "print(data.groupby(['Michelle Rodriguez'])['profit'].sum().sort_values(ascending=False).values[0])\n",
    "print(data.groupby(['Orlando Bloom'])['profit'].sum().sort_values(ascending=False).values[0])\n",
    "print(data.groupby(['Rupert Grint'])['profit'].sum().sort_values(ascending=False).values[0])"
   ]
  },
  {
   "cell_type": "code",
   "execution_count": 41,
   "metadata": {},
   "outputs": [],
   "source": [
    "answer_ls.append(1)"
   ]
  },
  {
   "cell_type": "markdown",
   "metadata": {},
   "source": [
    "# 17. Какой актер принес меньше всего прибыли в 2012 году?\n",
    "Варианты ответов:\n",
    "1. Nicolas Cage\n",
    "2. Danny Huston\n",
    "3. Kirsten Dunst\n",
    "4. Jim Sturgess\n",
    "5. Sami Gayle"
   ]
  },
  {
   "cell_type": "code",
   "execution_count": 42,
   "metadata": {},
   "outputs": [
    {
     "name": "stdout",
     "output_type": "stream",
     "text": [
      "-32893443\n",
      "-32893443\n",
      "-68109207\n",
      "-23410657\n",
      "-32893443\n"
     ]
    }
   ],
   "source": [
    "data17 = data[data.release_year == 2012]\n",
    "print(data17.groupby(['Nicolas Cage'])['profit'].sum().sort_values(ascending=False).values[0])\n",
    "print(data17.groupby(['Danny Huston'])['profit'].sum().sort_values(ascending=False).values[0])\n",
    "print(data17.groupby(['Kirsten Dunst'])['profit'].sum().sort_values(ascending=False).values[0])\n",
    "print(data17.groupby(['Jim Sturgess'])['profit'].sum().sort_values(ascending=False).values[0])\n",
    "print(data17.groupby(['Sami Gayle'])['profit'].sum().sort_values(ascending=False).values[0])"
   ]
  },
  {
   "cell_type": "code",
   "execution_count": 43,
   "metadata": {},
   "outputs": [],
   "source": [
    "answer_ls.append(3)"
   ]
  },
  {
   "cell_type": "markdown",
   "metadata": {},
   "source": [
    "# 18. Какой актер снялся в большем количестве высокобюджетных фильмов? (в фильмах где бюджет выше среднего по данной выборке)\n",
    "Варианты ответов:\n",
    "1. Tom Cruise\n",
    "2. Mark Wahlberg \n",
    "3. Matt Damon\n",
    "4. Angelina Jolie\n",
    "5. Adam Sandler"
   ]
  },
  {
   "cell_type": "code",
   "execution_count": 44,
   "metadata": {},
   "outputs": [
    {
     "name": "stdout",
     "output_type": "stream",
     "text": [
      "15.0\n",
      "14.0\n",
      "18.0\n",
      "16.0\n",
      "17.0\n"
     ]
    }
   ],
   "source": [
    "data18=data[data.budget > data.budget.mean()]\n",
    "print(data18[\"Tom Cruise\"].sum())\n",
    "print(data18[\"Mark Wahlberg\"].sum())\n",
    "print(data18[\"Matt Damon\"].sum())\n",
    "print(data18[\"Angelina Jolie\"].sum())\n",
    "print(data18[\"Adam Sandler\"].sum())"
   ]
  },
  {
   "cell_type": "code",
   "execution_count": 45,
   "metadata": {},
   "outputs": [],
   "source": [
    "answer_ls.append(3)"
   ]
  },
  {
   "cell_type": "markdown",
   "metadata": {},
   "source": [
    "# 19. В фильмах какого жанра больше всего снимался Nicolas Cage?  \n",
    "Варианты ответа:\n",
    "1. Drama\n",
    "2. Action\n",
    "3. Thriller\n",
    "4. Adventure\n",
    "5. Crime"
   ]
  },
  {
   "cell_type": "code",
   "execution_count": 46,
   "metadata": {},
   "outputs": [
    {
     "name": "stdout",
     "output_type": "stream",
     "text": [
      "12.0\n",
      "17.0\n",
      "15.0\n",
      "7.0\n",
      "10.0\n"
     ]
    }
   ],
   "source": [
    "print(data.groupby(['Nicolas Cage'])['Drama'].sum().sort_values(ascending=False).values[0])\n",
    "print(data.groupby(['Nicolas Cage'])['Action'].sum().sort_values(ascending=False).values[0])\n",
    "print(data.groupby(['Nicolas Cage'])['Thriller'].sum().sort_values(ascending=False).values[0])\n",
    "print(data.groupby(['Nicolas Cage'])['Adventure'].sum().sort_values(ascending=False).values[0])\n",
    "print(data.groupby(['Nicolas Cage'])['Crime'].sum().sort_values(ascending=False).values[0])"
   ]
  },
  {
   "cell_type": "code",
   "execution_count": 47,
   "metadata": {},
   "outputs": [],
   "source": [
    "answer_ls.append(2)"
   ]
  },
  {
   "cell_type": "markdown",
   "metadata": {},
   "source": [
    "# 20. Какая студия сняла больше всего фильмов?\n",
    "Варианты ответа:\n",
    "1. Universal Pictures (Universal)\n",
    "2. Paramount Pictures\n",
    "3. Columbia Pictures\n",
    "4. Warner Bros\n",
    "5. Twentieth Century Fox Film Corporation"
   ]
  },
  {
   "cell_type": "code",
   "execution_count": 48,
   "metadata": {},
   "outputs": [
    {
     "name": "stdout",
     "output_type": "stream",
     "text": [
      "173.0\n",
      "122.0\n",
      "117.0\n",
      "168.0\n",
      "109.0\n"
     ]
    }
   ],
   "source": [
    "print(data[\"Universal Pictures\"].sum())\n",
    "print(data[\"Paramount Pictures\"].sum())\n",
    "print(data[\"Columbia Pictures\"].sum())\n",
    "print(data[\"Warner Bros.\"].sum())\n",
    "print(data[\"Twentieth Century Fox Film Corporation\"].sum())"
   ]
  },
  {
   "cell_type": "code",
   "execution_count": 49,
   "metadata": {},
   "outputs": [],
   "source": [
    "answer_ls.append(1)"
   ]
  },
  {
   "cell_type": "markdown",
   "metadata": {},
   "source": [
    "# 21. Какая студия сняла больше всего фильмов в 2015 году?\n",
    "Варианты ответа:\n",
    "1. Universal Pictures\n",
    "2. Paramount Pictures\n",
    "3. Columbia Pictures\n",
    "4. Warner Bros\n",
    "5. Twentieth Century Fox Film Corporation"
   ]
  },
  {
   "cell_type": "code",
   "execution_count": 50,
   "metadata": {},
   "outputs": [
    {
     "name": "stdout",
     "output_type": "stream",
     "text": [
      "10.0\n",
      "7.0\n",
      "7.0\n",
      "12.0\n",
      "8.0\n"
     ]
    }
   ],
   "source": [
    "data21 = data[data.release_year == 2015]\n",
    "print(data21[\"Universal Pictures\"].sum())\n",
    "print(data21[\"Paramount Pictures\"].sum())\n",
    "print(data21[\"Columbia Pictures\"].sum())\n",
    "print(data21[\"Warner Bros.\"].sum())\n",
    "print(data21[\"Twentieth Century Fox Film Corporation\"].sum())"
   ]
  },
  {
   "cell_type": "code",
   "execution_count": 51,
   "metadata": {},
   "outputs": [],
   "source": [
    "answer_ls.append(4)"
   ]
  },
  {
   "cell_type": "markdown",
   "metadata": {},
   "source": [
    "# 22. Какая студия заработала больше всего денег в жанре комедий за все время?\n",
    "Варианты ответа:\n",
    "1. Warner Bros\n",
    "2. Universal Pictures (Universal)\n",
    "3. Columbia Pictures\n",
    "4. Paramount Pictures\n",
    "5. Walt Disney"
   ]
  },
  {
   "cell_type": "code",
   "execution_count": 52,
   "metadata": {},
   "outputs": [
    {
     "name": "stdout",
     "output_type": "stream",
     "text": [
      "46.0\n",
      "75.0\n",
      "62.0\n",
      "42.0\n",
      "45.0\n"
     ]
    }
   ],
   "source": [
    "print(data.groupby(['Comedy'])['Warner Bros.'].sum().sort_values(ascending=False).values[0])\n",
    "print(data.groupby(['Comedy'])['Universal Pictures'].sum().sort_values(ascending=False).values[0])\n",
    "print(data.groupby(['Comedy'])['Columbia Pictures'].sum().sort_values(ascending=False).values[0])\n",
    "print(data.groupby(['Comedy'])['Paramount Pictures'].sum().sort_values(ascending=False).values[0])\n",
    "print(data.groupby(['Comedy'])['Walt Disney Pictures'].sum().sort_values(ascending=False).values[0])"
   ]
  },
  {
   "cell_type": "code",
   "execution_count": 53,
   "metadata": {},
   "outputs": [],
   "source": [
    "answer_ls.append(2)"
   ]
  },
  {
   "cell_type": "markdown",
   "metadata": {},
   "source": [
    "# 23. Какая студия заработала больше всего денег в 2012 году?\n",
    "Варианты ответа:\n",
    "1. Universal Pictures (Universal)\n",
    "2. Warner Bros\n",
    "3. Columbia Pictures\n",
    "4. Paramount Pictures\n",
    "5. Lucasfilm"
   ]
  },
  {
   "cell_type": "code",
   "execution_count": 54,
   "metadata": {},
   "outputs": [
    {
     "name": "stdout",
     "output_type": "stream",
     "text": [
      "1981011579\n",
      "1258020056\n",
      "2501406608\n",
      "410726715\n",
      "-7634623\n"
     ]
    }
   ],
   "source": [
    "data23 = data[data.release_year == 2012]\n",
    "print(data23.groupby(['Universal Pictures'])['profit'].sum().sort_values(ascending=False).values[0])\n",
    "print(data23.groupby(['Warner Bros.'])['profit'].sum().sort_values(ascending=False).values[0])\n",
    "print(data23.groupby(['Columbia Pictures'])['profit'].sum().sort_values(ascending=False).values[0])\n",
    "print(data23.groupby(['Paramount Pictures'])['profit'].sum().sort_values(ascending=False).values[0])\n",
    "print(data23.groupby(['Lucasfilm Ltd.'])['profit'].sum().sort_values(ascending=False).values[0])\n",
    "#Ну тут мискликнул, сам виноват."
   ]
  },
  {
   "cell_type": "code",
   "execution_count": 55,
   "metadata": {},
   "outputs": [],
   "source": [
    "answer_ls.append(3)"
   ]
  },
  {
   "cell_type": "markdown",
   "metadata": {},
   "source": [
    "# 24. Самый убыточный фильм от Paramount Pictures\n",
    "Варианты ответа:\n",
    "\n",
    "1. K-19: The Widowmaker tt0267626\n",
    "2. Next tt0435705\n",
    "3. Twisted tt0315297\n",
    "4. The Love Guru tt0811138\n",
    "5. The Fighter tt0964517"
   ]
  },
  {
   "cell_type": "code",
   "execution_count": 56,
   "metadata": {},
   "outputs": [
    {
     "data": {
      "text/html": [
       "<div>\n",
       "<style scoped>\n",
       "    .dataframe tbody tr th:only-of-type {\n",
       "        vertical-align: middle;\n",
       "    }\n",
       "\n",
       "    .dataframe tbody tr th {\n",
       "        vertical-align: top;\n",
       "    }\n",
       "\n",
       "    .dataframe thead th {\n",
       "        text-align: right;\n",
       "    }\n",
       "</style>\n",
       "<table border=\"1\" class=\"dataframe\">\n",
       "  <thead>\n",
       "    <tr style=\"text-align: right;\">\n",
       "      <th></th>\n",
       "      <th>imdb_id</th>\n",
       "      <th>popularity</th>\n",
       "      <th>budget</th>\n",
       "      <th>revenue</th>\n",
       "      <th>original_title</th>\n",
       "      <th>cast</th>\n",
       "      <th>director</th>\n",
       "      <th>tagline</th>\n",
       "      <th>overview</th>\n",
       "      <th>runtime</th>\n",
       "      <th>...</th>\n",
       "      <th>Charenton Productions</th>\n",
       "      <th>Hollywood Partners</th>\n",
       "      <th>Walrus &amp; Associates</th>\n",
       "      <th>Sweetpea Entertainment</th>\n",
       "      <th>SNL Studios</th>\n",
       "      <th>JLT Productions</th>\n",
       "      <th>Springwood Productions</th>\n",
       "      <th>Capella International</th>\n",
       "      <th>KC Medien AG</th>\n",
       "      <th>Nora Ephron Productions</th>\n",
       "    </tr>\n",
       "  </thead>\n",
       "  <tbody>\n",
       "    <tr>\n",
       "      <th>926</th>\n",
       "      <td>tt0267626</td>\n",
       "      <td>0.72233</td>\n",
       "      <td>100000000</td>\n",
       "      <td>35168966</td>\n",
       "      <td>K-19: The Widowmaker</td>\n",
       "      <td>Harrison Ford|Liam Neeson|Peter Sarsgaard|Joss...</td>\n",
       "      <td>Kathryn Bigelow</td>\n",
       "      <td>Fate has found its hero.</td>\n",
       "      <td>When Russia's first nuclear submarine malfunct...</td>\n",
       "      <td>138</td>\n",
       "      <td>...</td>\n",
       "      <td>NaN</td>\n",
       "      <td>NaN</td>\n",
       "      <td>NaN</td>\n",
       "      <td>NaN</td>\n",
       "      <td>NaN</td>\n",
       "      <td>NaN</td>\n",
       "      <td>NaN</td>\n",
       "      <td>NaN</td>\n",
       "      <td>NaN</td>\n",
       "      <td>NaN</td>\n",
       "    </tr>\n",
       "  </tbody>\n",
       "</table>\n",
       "<p>1 rows × 5216 columns</p>\n",
       "</div>"
      ],
      "text/plain": [
       "       imdb_id  popularity     budget   revenue        original_title  \\\n",
       "926  tt0267626     0.72233  100000000  35168966  K-19: The Widowmaker   \n",
       "\n",
       "                                                  cast         director  \\\n",
       "926  Harrison Ford|Liam Neeson|Peter Sarsgaard|Joss...  Kathryn Bigelow   \n",
       "\n",
       "                      tagline  \\\n",
       "926  Fate has found its hero.   \n",
       "\n",
       "                                              overview  runtime  \\\n",
       "926  When Russia's first nuclear submarine malfunct...      138   \n",
       "\n",
       "              ...            Charenton Productions Hollywood Partners  \\\n",
       "926           ...                              NaN                NaN   \n",
       "\n",
       "    Walrus & Associates  Sweetpea Entertainment  SNL Studios  JLT Productions  \\\n",
       "926                 NaN                     NaN          NaN              NaN   \n",
       "\n",
       "     Springwood Productions  Capella International  KC Medien AG  \\\n",
       "926                     NaN                    NaN           NaN   \n",
       "\n",
       "     Nora Ephron Productions  \n",
       "926                      NaN  \n",
       "\n",
       "[1 rows x 5216 columns]"
      ]
     },
     "execution_count": 56,
     "metadata": {},
     "output_type": "execute_result"
    }
   ],
   "source": [
    "data24 = data[data[\"Paramount Pictures\"] == 1]\n",
    "data24[data24.profit == data24.profit.min()]"
   ]
  },
  {
   "cell_type": "code",
   "execution_count": 57,
   "metadata": {},
   "outputs": [],
   "source": [
    "answer_ls.append(1)"
   ]
  },
  {
   "cell_type": "markdown",
   "metadata": {},
   "source": [
    "# 25. Какой Самый прибыльный год (заработали больше всего)?\n",
    "Варианты ответа:\n",
    "1. 2014\n",
    "2. 2008\n",
    "3. 2012\n",
    "4. 2002\n",
    "5. 2015"
   ]
  },
  {
   "cell_type": "code",
   "execution_count": 58,
   "metadata": {},
   "outputs": [
    {
     "name": "stdout",
     "output_type": "stream",
     "text": [
      "16397812953\n",
      "11663881990\n",
      "16077001687\n",
      "9002361487\n",
      "18668572378\n"
     ]
    }
   ],
   "source": [
    "print(data[data.release_year == 2014].profit.sum())\n",
    "print(data[data.release_year == 2008].profit.sum())\n",
    "print(data[data.release_year == 2012].profit.sum())\n",
    "print(data[data.release_year == 2002].profit.sum())\n",
    "print(data[data.release_year == 2015].profit.sum())"
   ]
  },
  {
   "cell_type": "code",
   "execution_count": 59,
   "metadata": {},
   "outputs": [],
   "source": [
    "answer_ls.append(5)"
   ]
  },
  {
   "cell_type": "markdown",
   "metadata": {},
   "source": [
    "# 26. Какой Самый прибыльный год для студии Warner Bros?\n",
    "Варианты ответа:\n",
    "1. 2014\n",
    "2. 2008\n",
    "3. 2012\n",
    "4. 2010\n",
    "5. 2015"
   ]
  },
  {
   "cell_type": "code",
   "execution_count": 60,
   "metadata": {},
   "outputs": [
    {
     "name": "stdout",
     "output_type": "stream",
     "text": [
      "1886303827\n",
      "2134595031\n",
      "1258020056\n",
      "1853128844\n",
      "870368348\n"
     ]
    }
   ],
   "source": [
    "print(data[(data.release_year == 2014)&(data[\"Warner Bros.\"] == 1)].profit.sum())\n",
    "print(data[(data.release_year == 2008)&(data[\"Warner Bros.\"] == 1)].profit.sum())\n",
    "print(data[(data.release_year == 2012)&(data[\"Warner Bros.\"] == 1)].profit.sum())\n",
    "print(data[(data.release_year == 2010)&(data[\"Warner Bros.\"] == 1)].profit.sum())\n",
    "print(data[(data.release_year == 2015)&(data[\"Warner Bros.\"] == 1)].profit.sum())\n",
    "# Пааааааааааччччму? Как считать что бы получился 2014?"
   ]
  },
  {
   "cell_type": "code",
   "execution_count": 61,
   "metadata": {},
   "outputs": [],
   "source": [
    "answer_ls.append(2)"
   ]
  },
  {
   "cell_type": "markdown",
   "metadata": {},
   "source": [
    "# 27. В каком месяце за все годы суммарно вышло больше всего фильмов?\n",
    "Варианты ответа:\n",
    "1. Январь\n",
    "2. Июнь\n",
    "3. Декабрь\n",
    "4. Сентябрь\n",
    "5. Май"
   ]
  },
  {
   "cell_type": "code",
   "execution_count": 62,
   "metadata": {},
   "outputs": [],
   "source": [
    "data.release_date = data.release_date.apply(lambda x:str(x).split(\"/\")[0])"
   ]
  },
  {
   "cell_type": "code",
   "execution_count": 63,
   "metadata": {},
   "outputs": [
    {
     "data": {
      "text/plain": [
       "9     227\n",
       "12    191\n",
       "10    186\n",
       "8     161\n",
       "3     156\n",
       "4     149\n",
       "6     147\n",
       "11    146\n",
       "7     142\n",
       "5     140\n",
       "2     135\n",
       "1     110\n",
       "Name: release_date, dtype: int64"
      ]
     },
     "execution_count": 63,
     "metadata": {},
     "output_type": "execute_result"
    }
   ],
   "source": [
    "months_film = data.release_date.value_counts()\n",
    "months_film"
   ]
  },
  {
   "cell_type": "code",
   "execution_count": 64,
   "metadata": {},
   "outputs": [],
   "source": [
    "answer_ls.append(4)"
   ]
  },
  {
   "cell_type": "markdown",
   "metadata": {},
   "source": [
    "# 28. Сколько суммарно вышло фильмов летом? (за июнь, июль, август)\n",
    "Варианты ответа:\n",
    "1. 345\n",
    "2. 450\n",
    "3. 478\n",
    "4. 523\n",
    "5. 381"
   ]
  },
  {
   "cell_type": "code",
   "execution_count": 65,
   "metadata": {},
   "outputs": [
    {
     "data": {
      "text/plain": [
       "450"
      ]
     },
     "execution_count": 65,
     "metadata": {},
     "output_type": "execute_result"
    }
   ],
   "source": [
    "months_film[\"6\"]+months_film[\"7\"]+months_film[\"8\"]"
   ]
  },
  {
   "cell_type": "code",
   "execution_count": 66,
   "metadata": {},
   "outputs": [],
   "source": [
    "answer_ls.append(2)"
   ]
  },
  {
   "cell_type": "markdown",
   "metadata": {},
   "source": [
    "# 29. Какой режисер выпускает (суммарно по годам) больше всего фильмов зимой?\n",
    "Варианты ответов:\n",
    "1. Steven Soderbergh\n",
    "2. Christopher Nolan\n",
    "3. Clint Eastwood\n",
    "4. Ridley Scott\n",
    "5. Peter Jackson"
   ]
  },
  {
   "cell_type": "code",
   "execution_count": 67,
   "metadata": {},
   "outputs": [
    {
     "data": {
      "text/plain": [
       "Peter Jackson               7\n",
       "Steven Soderbergh           6\n",
       "Clint Eastwood              6\n",
       "Shawn Levy                  4\n",
       "Adam Shankman               4\n",
       "Martin Scorsese             4\n",
       "Nancy Meyers                4\n",
       "Wayne Wang                  3\n",
       "Donald Petrie               3\n",
       "Steven Spielberg            3\n",
       "Lasse HallstrÃ¶m            3\n",
       "Edward Zwick                3\n",
       "Ridley Scott                3\n",
       "Tim Burton                  3\n",
       "Patrick Lussier             3\n",
       "Rob Marshall                3\n",
       "Marc Lawrence               3\n",
       "Ron Howard                  2\n",
       "Brad Anderson               2\n",
       "James L. Brooks             2\n",
       "Gabriele Muccino            2\n",
       "Mark Steven Johnson         2\n",
       "Paul McGuigan               2\n",
       "John Whitesell              2\n",
       "P.J. Hogan                  2\n",
       "Martin Campbell             2\n",
       "Marcus Nispel               2\n",
       "Sylvester Stallone          2\n",
       "Spike Jonze                 2\n",
       "Paul Thomas Anderson        2\n",
       "                           ..\n",
       "Clare Kilner                1\n",
       "Andy Fickman                1\n",
       "Robin Budd|Donovan Cook     1\n",
       "Dave Meyers                 1\n",
       "Rob Bowman                  1\n",
       "Renny Harlin                1\n",
       "David Leland                1\n",
       "David Gordon Green          1\n",
       "Lee Tamahori                1\n",
       "Walter Hill                 1\n",
       "Ari Sandel                  1\n",
       "Phyllida Lloyd              1\n",
       "David Dobkin                1\n",
       "James Cameron               1\n",
       "Breck Eisner                1\n",
       "Ivan Reitman                1\n",
       "Jean-FranÃ§ois Richet       1\n",
       "Allen Hughes                1\n",
       "Walter Hill|Jack Sholder    1\n",
       "Kevin Macdonald             1\n",
       "Jay Roach                   1\n",
       "Sergey Bodrov               1\n",
       "Mike McCoy|Scott Waugh      1\n",
       "NimrÃ³d Antal               1\n",
       "J.J. Abrams                 1\n",
       "Robert Zemeckis             1\n",
       "Eric Brevig                 1\n",
       "Darren Aronofsky            1\n",
       "JosÃ© Padilha               1\n",
       "Frank Marshall              1\n",
       "Name: director, Length: 333, dtype: int64"
      ]
     },
     "execution_count": 67,
     "metadata": {},
     "output_type": "execute_result"
    }
   ],
   "source": [
    "data29 = data[(data.release_date == '12')|(data.release_date == '1')|(data.release_date == '2')]\n",
    "data29.director.value_counts()"
   ]
  },
  {
   "cell_type": "code",
   "execution_count": 68,
   "metadata": {},
   "outputs": [],
   "source": [
    "answer_ls.append(5)"
   ]
  },
  {
   "cell_type": "markdown",
   "metadata": {},
   "source": [
    "# 30. Какой месяц чаще всего по годам самый прибыльный?\n",
    "Варианты ответа:\n",
    "1. Январь\n",
    "2. Июнь\n",
    "3. Декабрь\n",
    "4. Сентябрь\n",
    "5. Май"
   ]
  },
  {
   "cell_type": "code",
   "execution_count": 69,
   "metadata": {},
   "outputs": [
    {
     "data": {
      "text/plain": [
       "release_date\n",
       "6     27551262500\n",
       "12    26563071474\n",
       "5     25039516141\n",
       "11    18654155473\n",
       "7     18307895020\n",
       "3     13720216540\n",
       "10    12994907859\n",
       "4     12876005537\n",
       "9     10878921041\n",
       "8      9640610446\n",
       "2      8854574425\n",
       "1      5396885454\n",
       "Name: profit, dtype: int64"
      ]
     },
     "execution_count": 69,
     "metadata": {},
     "output_type": "execute_result"
    }
   ],
   "source": [
    "data.groupby([\"release_date\"])['profit'].sum().sort_values(ascending=False)"
   ]
  },
  {
   "cell_type": "code",
   "execution_count": 70,
   "metadata": {},
   "outputs": [],
   "source": [
    "answer_ls.append(2)"
   ]
  },
  {
   "cell_type": "markdown",
   "metadata": {},
   "source": [
    "# 31. Названия фильмов какой студии в среднем самые длинные по количеству символов?\n",
    "Варианты ответа:\n",
    "1. Universal Pictures (Universal)\n",
    "2. Warner Bros\n",
    "3. Jim Henson Company, The\n",
    "4. Paramount Pictures\n",
    "5. Four By Two Productions"
   ]
  },
  {
   "cell_type": "code",
   "execution_count": 312,
   "metadata": {},
   "outputs": [
    {
     "name": "stdout",
     "output_type": "stream",
     "text": [
      "14.716763005780347\n",
      "15.571428571428571\n",
      "59\n",
      "17.0327868852459\n",
      "83\n"
     ]
    }
   ],
   "source": [
    "data31 = data.copy()\n",
    "data31.original_title = data31.original_title.apply(lambda x:len(x))\n",
    "print(data31.groupby(['Universal Pictures'])['original_title'].mean().sort_values(ascending=False).values[0])\n",
    "print(data31.groupby(['Warner Bros.'])['original_title'].mean().sort_values(ascending=False).values[0])\n",
    "print(data31.groupby(['Jim Henson Company, The'])['original_title'].mean().sort_values(ascending=False).values[0])\n",
    "print(data31.groupby(['Paramount Pictures'])['original_title'].mean().sort_values(ascending=False).values[0])\n",
    "print(data31.groupby(['Four By Two Productions'])['original_title'].mean().sort_values(ascending=False).values[0])\n",
    "# опять мискликнул("
   ]
  },
  {
   "cell_type": "code",
   "execution_count": 310,
   "metadata": {},
   "outputs": [],
   "source": [
    "answer_ls.append(5)"
   ]
  },
  {
   "cell_type": "markdown",
   "metadata": {},
   "source": [
    "# 32. Названия фильмов какой студии в среднем самые длинные по количеству слов?\n",
    "Варианты ответа:\n",
    "1. Universal Pictures (Universal)\n",
    "2. Warner Bros\n",
    "3. Jim Henson Company, The\n",
    "4. Paramount Pictures\n",
    "5. Four By Two Productions"
   ]
  },
  {
   "cell_type": "code",
   "execution_count": 317,
   "metadata": {},
   "outputs": [
    {
     "name": "stdout",
     "output_type": "stream",
     "text": [
      "2.61271676300578\n",
      "2.767857142857143\n",
      "10\n",
      "2.8688524590163933\n",
      "12\n"
     ]
    }
   ],
   "source": [
    "data32 = data.copy()\n",
    "data32.original_title = data32.original_title.apply(lambda x:len(x.split(\" \")))\n",
    "print(data32.groupby(['Universal Pictures'])['original_title'].mean().sort_values(ascending=False).values[0])\n",
    "print(data32.groupby(['Warner Bros.'])['original_title'].mean().sort_values(ascending=False).values[0])\n",
    "print(data32.groupby(['Jim Henson Company, The'])['original_title'].mean().sort_values(ascending=False).values[0])\n",
    "print(data32.groupby(['Paramount Pictures'])['original_title'].mean().sort_values(ascending=False).values[0])\n",
    "print(data32.groupby(['Four By Two Productions'])['original_title'].mean().sort_values(ascending=False).values[0])"
   ]
  },
  {
   "cell_type": "code",
   "execution_count": 318,
   "metadata": {},
   "outputs": [],
   "source": [
    "answer_ls.append(5)"
   ]
  },
  {
   "cell_type": "markdown",
   "metadata": {},
   "source": [
    "# 33. Сколько разных слов используется в названиях фильмов?(без учета регистра)\n",
    "Варианты ответа:\n",
    "1. 6540\n",
    "2. 1002\n",
    "3. 2461\n",
    "4. 28304\n",
    "5. 3432"
   ]
  },
  {
   "cell_type": "code",
   "execution_count": 328,
   "metadata": {},
   "outputs": [
    {
     "name": "stdout",
     "output_type": "stream",
     "text": [
      "2458\n"
     ]
    }
   ],
   "source": [
    "words_list = []\n",
    "punctuations = '''!()-[]{};:'\"\\,<>./?@#$%^&*_~'''\n",
    "for index, row in data.iterrows():\n",
    "    for i in row['original_title'].split(' '):\n",
    "        if i.lower() not in words_list and i not in punctuations:\n",
    "            words_list.append(i.lower())\n",
    "print(len(words_list))\n",
    "# Так и не понял как ровно в 2461 попасть"
   ]
  },
  {
   "cell_type": "code",
   "execution_count": 329,
   "metadata": {},
   "outputs": [],
   "source": [
    "answer_ls.append(3)"
   ]
  },
  {
   "cell_type": "markdown",
   "metadata": {},
   "source": [
    "# 34. Какие фильмы входят в 1 процент лучших по рейтингу?\n",
    "Варианты ответа:\n",
    "1. Inside Out, Gone Girl, 12 Years a Slave\n",
    "2. BloodRayne, The Adventures of Rocky & Bullwinkle\n",
    "3. The Lord of the Rings: The Return of the King\n",
    "4. 300, Lucky Number Slevin"
   ]
  },
  {
   "cell_type": "code",
   "execution_count": 330,
   "metadata": {},
   "outputs": [
    {
     "data": {
      "text/html": [
       "<div>\n",
       "<style scoped>\n",
       "    .dataframe tbody tr th:only-of-type {\n",
       "        vertical-align: middle;\n",
       "    }\n",
       "\n",
       "    .dataframe tbody tr th {\n",
       "        vertical-align: top;\n",
       "    }\n",
       "\n",
       "    .dataframe thead th {\n",
       "        text-align: right;\n",
       "    }\n",
       "</style>\n",
       "<table border=\"1\" class=\"dataframe\">\n",
       "  <thead>\n",
       "    <tr style=\"text-align: right;\">\n",
       "      <th></th>\n",
       "      <th>imdb_id</th>\n",
       "      <th>popularity</th>\n",
       "      <th>budget</th>\n",
       "      <th>revenue</th>\n",
       "      <th>original_title</th>\n",
       "      <th>cast</th>\n",
       "      <th>director</th>\n",
       "      <th>tagline</th>\n",
       "      <th>overview</th>\n",
       "      <th>runtime</th>\n",
       "      <th>...</th>\n",
       "      <th>Charenton Productions</th>\n",
       "      <th>Hollywood Partners</th>\n",
       "      <th>Walrus &amp; Associates</th>\n",
       "      <th>Sweetpea Entertainment</th>\n",
       "      <th>SNL Studios</th>\n",
       "      <th>JLT Productions</th>\n",
       "      <th>Springwood Productions</th>\n",
       "      <th>Capella International</th>\n",
       "      <th>KC Medien AG</th>\n",
       "      <th>Nora Ephron Productions</th>\n",
       "    </tr>\n",
       "  </thead>\n",
       "  <tbody>\n",
       "    <tr>\n",
       "      <th>9</th>\n",
       "      <td>tt2096673</td>\n",
       "      <td>6.326804</td>\n",
       "      <td>175000000</td>\n",
       "      <td>853708609</td>\n",
       "      <td>Inside Out</td>\n",
       "      <td>Amy Poehler|Phyllis Smith|Richard Kind|Bill Ha...</td>\n",
       "      <td>Pete Docter</td>\n",
       "      <td>Meet the little voices inside your head.</td>\n",
       "      <td>Growing up can be a bumpy road, and it's no ex...</td>\n",
       "      <td>94</td>\n",
       "      <td>...</td>\n",
       "      <td>NaN</td>\n",
       "      <td>NaN</td>\n",
       "      <td>NaN</td>\n",
       "      <td>NaN</td>\n",
       "      <td>NaN</td>\n",
       "      <td>NaN</td>\n",
       "      <td>NaN</td>\n",
       "      <td>NaN</td>\n",
       "      <td>NaN</td>\n",
       "      <td>NaN</td>\n",
       "    </tr>\n",
       "    <tr>\n",
       "      <th>34</th>\n",
       "      <td>tt3170832</td>\n",
       "      <td>3.557846</td>\n",
       "      <td>6000000</td>\n",
       "      <td>35401758</td>\n",
       "      <td>Room</td>\n",
       "      <td>Brie Larson|Jacob Tremblay|Joan Allen|Sean Bri...</td>\n",
       "      <td>Lenny Abrahamson</td>\n",
       "      <td>Love knows no boundaries</td>\n",
       "      <td>Jack is a young boy of 5 years old who has liv...</td>\n",
       "      <td>117</td>\n",
       "      <td>...</td>\n",
       "      <td>NaN</td>\n",
       "      <td>NaN</td>\n",
       "      <td>NaN</td>\n",
       "      <td>NaN</td>\n",
       "      <td>NaN</td>\n",
       "      <td>NaN</td>\n",
       "      <td>NaN</td>\n",
       "      <td>NaN</td>\n",
       "      <td>NaN</td>\n",
       "      <td>NaN</td>\n",
       "    </tr>\n",
       "    <tr>\n",
       "      <th>118</th>\n",
       "      <td>tt0816692</td>\n",
       "      <td>24.949134</td>\n",
       "      <td>165000000</td>\n",
       "      <td>621752480</td>\n",
       "      <td>Interstellar</td>\n",
       "      <td>Matthew McConaughey|Jessica Chastain|Anne Hath...</td>\n",
       "      <td>Christopher Nolan</td>\n",
       "      <td>Mankind was born on Earth. It was never meant ...</td>\n",
       "      <td>Interstellar chronicles the adventures of a gr...</td>\n",
       "      <td>169</td>\n",
       "      <td>...</td>\n",
       "      <td>NaN</td>\n",
       "      <td>NaN</td>\n",
       "      <td>NaN</td>\n",
       "      <td>NaN</td>\n",
       "      <td>NaN</td>\n",
       "      <td>NaN</td>\n",
       "      <td>NaN</td>\n",
       "      <td>NaN</td>\n",
       "      <td>NaN</td>\n",
       "      <td>NaN</td>\n",
       "    </tr>\n",
       "    <tr>\n",
       "      <th>119</th>\n",
       "      <td>tt2015381</td>\n",
       "      <td>14.311205</td>\n",
       "      <td>170000000</td>\n",
       "      <td>773312399</td>\n",
       "      <td>Guardians of the Galaxy</td>\n",
       "      <td>Chris Pratt|Zoe Saldana|Dave Bautista|Vin Dies...</td>\n",
       "      <td>James Gunn</td>\n",
       "      <td>All heroes start somewhere.</td>\n",
       "      <td>Light years from Earth, 26 years after being a...</td>\n",
       "      <td>121</td>\n",
       "      <td>...</td>\n",
       "      <td>NaN</td>\n",
       "      <td>NaN</td>\n",
       "      <td>NaN</td>\n",
       "      <td>NaN</td>\n",
       "      <td>NaN</td>\n",
       "      <td>NaN</td>\n",
       "      <td>NaN</td>\n",
       "      <td>NaN</td>\n",
       "      <td>NaN</td>\n",
       "      <td>NaN</td>\n",
       "    </tr>\n",
       "    <tr>\n",
       "      <th>125</th>\n",
       "      <td>tt2084970</td>\n",
       "      <td>8.110711</td>\n",
       "      <td>14000000</td>\n",
       "      <td>233555708</td>\n",
       "      <td>The Imitation Game</td>\n",
       "      <td>Benedict Cumberbatch|Keira Knightley|Matthew G...</td>\n",
       "      <td>Morten Tyldum</td>\n",
       "      <td>The true enigma was the man who cracked the code.</td>\n",
       "      <td>Based on the real life story of legendary cryp...</td>\n",
       "      <td>113</td>\n",
       "      <td>...</td>\n",
       "      <td>NaN</td>\n",
       "      <td>NaN</td>\n",
       "      <td>NaN</td>\n",
       "      <td>NaN</td>\n",
       "      <td>NaN</td>\n",
       "      <td>NaN</td>\n",
       "      <td>NaN</td>\n",
       "      <td>NaN</td>\n",
       "      <td>NaN</td>\n",
       "      <td>NaN</td>\n",
       "    </tr>\n",
       "    <tr>\n",
       "      <th>128</th>\n",
       "      <td>tt2267998</td>\n",
       "      <td>6.438727</td>\n",
       "      <td>61000000</td>\n",
       "      <td>369330363</td>\n",
       "      <td>Gone Girl</td>\n",
       "      <td>Ben Affleck|Rosamund Pike|Carrie Coon|Neil Pat...</td>\n",
       "      <td>David Fincher</td>\n",
       "      <td>You don't know what you've got 'til it's...</td>\n",
       "      <td>With his wife's disappearance having become th...</td>\n",
       "      <td>145</td>\n",
       "      <td>...</td>\n",
       "      <td>NaN</td>\n",
       "      <td>NaN</td>\n",
       "      <td>NaN</td>\n",
       "      <td>NaN</td>\n",
       "      <td>NaN</td>\n",
       "      <td>NaN</td>\n",
       "      <td>NaN</td>\n",
       "      <td>NaN</td>\n",
       "      <td>NaN</td>\n",
       "      <td>NaN</td>\n",
       "    </tr>\n",
       "    <tr>\n",
       "      <th>138</th>\n",
       "      <td>tt2278388</td>\n",
       "      <td>4.930820</td>\n",
       "      <td>30000000</td>\n",
       "      <td>174600318</td>\n",
       "      <td>The Grand Budapest Hotel</td>\n",
       "      <td>Ralph Fiennes|Tony Revolori|F. Murray Abraham|...</td>\n",
       "      <td>Wes Anderson</td>\n",
       "      <td>A perfect holiday without leaving home.</td>\n",
       "      <td>The Grand Budapest Hotel tells of a legendary ...</td>\n",
       "      <td>99</td>\n",
       "      <td>...</td>\n",
       "      <td>NaN</td>\n",
       "      <td>NaN</td>\n",
       "      <td>NaN</td>\n",
       "      <td>NaN</td>\n",
       "      <td>NaN</td>\n",
       "      <td>NaN</td>\n",
       "      <td>NaN</td>\n",
       "      <td>NaN</td>\n",
       "      <td>NaN</td>\n",
       "      <td>NaN</td>\n",
       "    </tr>\n",
       "    <tr>\n",
       "      <th>370</th>\n",
       "      <td>tt1375666</td>\n",
       "      <td>9.363643</td>\n",
       "      <td>160000000</td>\n",
       "      <td>825500000</td>\n",
       "      <td>Inception</td>\n",
       "      <td>Leonardo DiCaprio|Joseph Gordon-Levitt|Ellen P...</td>\n",
       "      <td>Christopher Nolan</td>\n",
       "      <td>Your mind is the scene of the crime.</td>\n",
       "      <td>Cobb, a skilled thief who commits corporate es...</td>\n",
       "      <td>148</td>\n",
       "      <td>...</td>\n",
       "      <td>NaN</td>\n",
       "      <td>NaN</td>\n",
       "      <td>NaN</td>\n",
       "      <td>NaN</td>\n",
       "      <td>NaN</td>\n",
       "      <td>NaN</td>\n",
       "      <td>NaN</td>\n",
       "      <td>NaN</td>\n",
       "      <td>NaN</td>\n",
       "      <td>NaN</td>\n",
       "    </tr>\n",
       "    <tr>\n",
       "      <th>600</th>\n",
       "      <td>tt0468569</td>\n",
       "      <td>8.466668</td>\n",
       "      <td>185000000</td>\n",
       "      <td>1001921825</td>\n",
       "      <td>The Dark Knight</td>\n",
       "      <td>Christian Bale|Michael Caine|Heath Ledger|Aaro...</td>\n",
       "      <td>Christopher Nolan</td>\n",
       "      <td>Why So Serious?</td>\n",
       "      <td>Batman raises the stakes in his war on crime. ...</td>\n",
       "      <td>152</td>\n",
       "      <td>...</td>\n",
       "      <td>NaN</td>\n",
       "      <td>NaN</td>\n",
       "      <td>NaN</td>\n",
       "      <td>NaN</td>\n",
       "      <td>NaN</td>\n",
       "      <td>NaN</td>\n",
       "      <td>NaN</td>\n",
       "      <td>NaN</td>\n",
       "      <td>NaN</td>\n",
       "      <td>NaN</td>\n",
       "    </tr>\n",
       "    <tr>\n",
       "      <th>873</th>\n",
       "      <td>tt0253474</td>\n",
       "      <td>2.364204</td>\n",
       "      <td>35000000</td>\n",
       "      <td>120072577</td>\n",
       "      <td>The Pianist</td>\n",
       "      <td>Adrien Brody|Thomas Kretschmann|Frank Finlay|M...</td>\n",
       "      <td>Roman Polanski</td>\n",
       "      <td>Music was his passion. Survival was his master...</td>\n",
       "      <td>The Pianist is a film adapted from the biograp...</td>\n",
       "      <td>150</td>\n",
       "      <td>...</td>\n",
       "      <td>NaN</td>\n",
       "      <td>NaN</td>\n",
       "      <td>NaN</td>\n",
       "      <td>NaN</td>\n",
       "      <td>NaN</td>\n",
       "      <td>NaN</td>\n",
       "      <td>NaN</td>\n",
       "      <td>NaN</td>\n",
       "      <td>NaN</td>\n",
       "      <td>NaN</td>\n",
       "    </tr>\n",
       "    <tr>\n",
       "      <th>1082</th>\n",
       "      <td>tt0167260</td>\n",
       "      <td>7.122455</td>\n",
       "      <td>94000000</td>\n",
       "      <td>1118888979</td>\n",
       "      <td>The Lord of the Rings: The Return of the King</td>\n",
       "      <td>Elijah Wood|Ian McKellen|Viggo Mortensen|Liv T...</td>\n",
       "      <td>Peter Jackson</td>\n",
       "      <td>The eye of the enemy is moving.</td>\n",
       "      <td>Aragorn is revealed as the heir to the ancient...</td>\n",
       "      <td>201</td>\n",
       "      <td>...</td>\n",
       "      <td>NaN</td>\n",
       "      <td>NaN</td>\n",
       "      <td>NaN</td>\n",
       "      <td>NaN</td>\n",
       "      <td>NaN</td>\n",
       "      <td>NaN</td>\n",
       "      <td>NaN</td>\n",
       "      <td>NaN</td>\n",
       "      <td>NaN</td>\n",
       "      <td>NaN</td>\n",
       "    </tr>\n",
       "    <tr>\n",
       "      <th>1184</th>\n",
       "      <td>tt0993846</td>\n",
       "      <td>4.877927</td>\n",
       "      <td>100000000</td>\n",
       "      <td>392000694</td>\n",
       "      <td>The Wolf of Wall Street</td>\n",
       "      <td>Leonardo DiCaprio|Jonah Hill|Margot Robbie|Kyl...</td>\n",
       "      <td>Martin Scorsese</td>\n",
       "      <td>EARN. SPEND. PARTY.</td>\n",
       "      <td>A New York stockbroker refuses to cooperate in...</td>\n",
       "      <td>180</td>\n",
       "      <td>...</td>\n",
       "      <td>NaN</td>\n",
       "      <td>NaN</td>\n",
       "      <td>NaN</td>\n",
       "      <td>NaN</td>\n",
       "      <td>NaN</td>\n",
       "      <td>NaN</td>\n",
       "      <td>NaN</td>\n",
       "      <td>NaN</td>\n",
       "      <td>NaN</td>\n",
       "      <td>NaN</td>\n",
       "    </tr>\n",
       "    <tr>\n",
       "      <th>1192</th>\n",
       "      <td>tt2024544</td>\n",
       "      <td>3.625529</td>\n",
       "      <td>20000000</td>\n",
       "      <td>187000000</td>\n",
       "      <td>12 Years a Slave</td>\n",
       "      <td>Chiwetel Ejiofor|Michael Fassbender|Lupita Nyo...</td>\n",
       "      <td>Steve McQueen</td>\n",
       "      <td>The extraordinary true story of Solomon Northup</td>\n",
       "      <td>In the pre-Civil War United States, Solomon No...</td>\n",
       "      <td>134</td>\n",
       "      <td>...</td>\n",
       "      <td>NaN</td>\n",
       "      <td>NaN</td>\n",
       "      <td>NaN</td>\n",
       "      <td>NaN</td>\n",
       "      <td>NaN</td>\n",
       "      <td>NaN</td>\n",
       "      <td>NaN</td>\n",
       "      <td>NaN</td>\n",
       "      <td>NaN</td>\n",
       "      <td>NaN</td>\n",
       "    </tr>\n",
       "    <tr>\n",
       "      <th>1801</th>\n",
       "      <td>tt0209144</td>\n",
       "      <td>3.095625</td>\n",
       "      <td>9000000</td>\n",
       "      <td>39723096</td>\n",
       "      <td>Memento</td>\n",
       "      <td>Guy Pearce|Carrie-Anne Moss|Joe Pantoliano|Mar...</td>\n",
       "      <td>Christopher Nolan</td>\n",
       "      <td>Some memories are best forgotten.</td>\n",
       "      <td>Suffering short-term memory loss after a head ...</td>\n",
       "      <td>113</td>\n",
       "      <td>...</td>\n",
       "      <td>NaN</td>\n",
       "      <td>NaN</td>\n",
       "      <td>NaN</td>\n",
       "      <td>NaN</td>\n",
       "      <td>NaN</td>\n",
       "      <td>NaN</td>\n",
       "      <td>NaN</td>\n",
       "      <td>NaN</td>\n",
       "      <td>NaN</td>\n",
       "      <td>NaN</td>\n",
       "    </tr>\n",
       "  </tbody>\n",
       "</table>\n",
       "<p>14 rows × 5216 columns</p>\n",
       "</div>"
      ],
      "text/plain": [
       "        imdb_id  popularity     budget     revenue  \\\n",
       "9     tt2096673    6.326804  175000000   853708609   \n",
       "34    tt3170832    3.557846    6000000    35401758   \n",
       "118   tt0816692   24.949134  165000000   621752480   \n",
       "119   tt2015381   14.311205  170000000   773312399   \n",
       "125   tt2084970    8.110711   14000000   233555708   \n",
       "128   tt2267998    6.438727   61000000   369330363   \n",
       "138   tt2278388    4.930820   30000000   174600318   \n",
       "370   tt1375666    9.363643  160000000   825500000   \n",
       "600   tt0468569    8.466668  185000000  1001921825   \n",
       "873   tt0253474    2.364204   35000000   120072577   \n",
       "1082  tt0167260    7.122455   94000000  1118888979   \n",
       "1184  tt0993846    4.877927  100000000   392000694   \n",
       "1192  tt2024544    3.625529   20000000   187000000   \n",
       "1801  tt0209144    3.095625    9000000    39723096   \n",
       "\n",
       "                                     original_title  \\\n",
       "9                                        Inside Out   \n",
       "34                                             Room   \n",
       "118                                    Interstellar   \n",
       "119                         Guardians of the Galaxy   \n",
       "125                              The Imitation Game   \n",
       "128                                       Gone Girl   \n",
       "138                        The Grand Budapest Hotel   \n",
       "370                                       Inception   \n",
       "600                                 The Dark Knight   \n",
       "873                                     The Pianist   \n",
       "1082  The Lord of the Rings: The Return of the King   \n",
       "1184                        The Wolf of Wall Street   \n",
       "1192                               12 Years a Slave   \n",
       "1801                                        Memento   \n",
       "\n",
       "                                                   cast           director  \\\n",
       "9     Amy Poehler|Phyllis Smith|Richard Kind|Bill Ha...        Pete Docter   \n",
       "34    Brie Larson|Jacob Tremblay|Joan Allen|Sean Bri...   Lenny Abrahamson   \n",
       "118   Matthew McConaughey|Jessica Chastain|Anne Hath...  Christopher Nolan   \n",
       "119   Chris Pratt|Zoe Saldana|Dave Bautista|Vin Dies...         James Gunn   \n",
       "125   Benedict Cumberbatch|Keira Knightley|Matthew G...      Morten Tyldum   \n",
       "128   Ben Affleck|Rosamund Pike|Carrie Coon|Neil Pat...      David Fincher   \n",
       "138   Ralph Fiennes|Tony Revolori|F. Murray Abraham|...       Wes Anderson   \n",
       "370   Leonardo DiCaprio|Joseph Gordon-Levitt|Ellen P...  Christopher Nolan   \n",
       "600   Christian Bale|Michael Caine|Heath Ledger|Aaro...  Christopher Nolan   \n",
       "873   Adrien Brody|Thomas Kretschmann|Frank Finlay|M...     Roman Polanski   \n",
       "1082  Elijah Wood|Ian McKellen|Viggo Mortensen|Liv T...      Peter Jackson   \n",
       "1184  Leonardo DiCaprio|Jonah Hill|Margot Robbie|Kyl...    Martin Scorsese   \n",
       "1192  Chiwetel Ejiofor|Michael Fassbender|Lupita Nyo...      Steve McQueen   \n",
       "1801  Guy Pearce|Carrie-Anne Moss|Joe Pantoliano|Mar...  Christopher Nolan   \n",
       "\n",
       "                                                tagline  \\\n",
       "9              Meet the little voices inside your head.   \n",
       "34                             Love knows no boundaries   \n",
       "118   Mankind was born on Earth. It was never meant ...   \n",
       "119                         All heroes start somewhere.   \n",
       "125   The true enigma was the man who cracked the code.   \n",
       "128         You don't know what you've got 'til it's...   \n",
       "138             A perfect holiday without leaving home.   \n",
       "370                Your mind is the scene of the crime.   \n",
       "600                                     Why So Serious?   \n",
       "873   Music was his passion. Survival was his master...   \n",
       "1082                    The eye of the enemy is moving.   \n",
       "1184                                EARN. SPEND. PARTY.   \n",
       "1192    The extraordinary true story of Solomon Northup   \n",
       "1801                  Some memories are best forgotten.   \n",
       "\n",
       "                                               overview  runtime  \\\n",
       "9     Growing up can be a bumpy road, and it's no ex...       94   \n",
       "34    Jack is a young boy of 5 years old who has liv...      117   \n",
       "118   Interstellar chronicles the adventures of a gr...      169   \n",
       "119   Light years from Earth, 26 years after being a...      121   \n",
       "125   Based on the real life story of legendary cryp...      113   \n",
       "128   With his wife's disappearance having become th...      145   \n",
       "138   The Grand Budapest Hotel tells of a legendary ...       99   \n",
       "370   Cobb, a skilled thief who commits corporate es...      148   \n",
       "600   Batman raises the stakes in his war on crime. ...      152   \n",
       "873   The Pianist is a film adapted from the biograp...      150   \n",
       "1082  Aragorn is revealed as the heir to the ancient...      201   \n",
       "1184  A New York stockbroker refuses to cooperate in...      180   \n",
       "1192  In the pre-Civil War United States, Solomon No...      134   \n",
       "1801  Suffering short-term memory loss after a head ...      113   \n",
       "\n",
       "               ...            Charenton Productions Hollywood Partners  \\\n",
       "9              ...                              NaN                NaN   \n",
       "34             ...                              NaN                NaN   \n",
       "118            ...                              NaN                NaN   \n",
       "119            ...                              NaN                NaN   \n",
       "125            ...                              NaN                NaN   \n",
       "128            ...                              NaN                NaN   \n",
       "138            ...                              NaN                NaN   \n",
       "370            ...                              NaN                NaN   \n",
       "600            ...                              NaN                NaN   \n",
       "873            ...                              NaN                NaN   \n",
       "1082           ...                              NaN                NaN   \n",
       "1184           ...                              NaN                NaN   \n",
       "1192           ...                              NaN                NaN   \n",
       "1801           ...                              NaN                NaN   \n",
       "\n",
       "     Walrus & Associates  Sweetpea Entertainment  SNL Studios  \\\n",
       "9                    NaN                     NaN          NaN   \n",
       "34                   NaN                     NaN          NaN   \n",
       "118                  NaN                     NaN          NaN   \n",
       "119                  NaN                     NaN          NaN   \n",
       "125                  NaN                     NaN          NaN   \n",
       "128                  NaN                     NaN          NaN   \n",
       "138                  NaN                     NaN          NaN   \n",
       "370                  NaN                     NaN          NaN   \n",
       "600                  NaN                     NaN          NaN   \n",
       "873                  NaN                     NaN          NaN   \n",
       "1082                 NaN                     NaN          NaN   \n",
       "1184                 NaN                     NaN          NaN   \n",
       "1192                 NaN                     NaN          NaN   \n",
       "1801                 NaN                     NaN          NaN   \n",
       "\n",
       "      JLT Productions  Springwood Productions  Capella International  \\\n",
       "9                 NaN                     NaN                    NaN   \n",
       "34                NaN                     NaN                    NaN   \n",
       "118               NaN                     NaN                    NaN   \n",
       "119               NaN                     NaN                    NaN   \n",
       "125               NaN                     NaN                    NaN   \n",
       "128               NaN                     NaN                    NaN   \n",
       "138               NaN                     NaN                    NaN   \n",
       "370               NaN                     NaN                    NaN   \n",
       "600               NaN                     NaN                    NaN   \n",
       "873               NaN                     NaN                    NaN   \n",
       "1082              NaN                     NaN                    NaN   \n",
       "1184              NaN                     NaN                    NaN   \n",
       "1192              NaN                     NaN                    NaN   \n",
       "1801              NaN                     NaN                    NaN   \n",
       "\n",
       "      KC Medien AG  Nora Ephron Productions  \n",
       "9              NaN                      NaN  \n",
       "34             NaN                      NaN  \n",
       "118            NaN                      NaN  \n",
       "119            NaN                      NaN  \n",
       "125            NaN                      NaN  \n",
       "128            NaN                      NaN  \n",
       "138            NaN                      NaN  \n",
       "370            NaN                      NaN  \n",
       "600            NaN                      NaN  \n",
       "873            NaN                      NaN  \n",
       "1082           NaN                      NaN  \n",
       "1184           NaN                      NaN  \n",
       "1192           NaN                      NaN  \n",
       "1801           NaN                      NaN  \n",
       "\n",
       "[14 rows x 5216 columns]"
      ]
     },
     "execution_count": 330,
     "metadata": {},
     "output_type": "execute_result"
    }
   ],
   "source": [
    "data[data.vote_average > data.vote_average.quantile(0.99)]"
   ]
  },
  {
   "cell_type": "code",
   "execution_count": 331,
   "metadata": {},
   "outputs": [],
   "source": [
    "answer_ls.append(1)"
   ]
  },
  {
   "cell_type": "markdown",
   "metadata": {},
   "source": [
    "# 35. Какие актеры чаще всего снимаются в одном фильме вместе\n",
    "Варианты ответа:\n",
    "1. Johnny Depp & Helena Bonham Carter\n",
    "2. Hugh Jackman & Ian McKellen\n",
    "3. Vin Diesel & Paul Walker\n",
    "4. Adam Sandler & Kevin James\n",
    "5. Daniel Radcliffe & Rupert Grint"
   ]
  },
  {
   "cell_type": "code",
   "execution_count": 338,
   "metadata": {},
   "outputs": [
    {
     "name": "stdout",
     "output_type": "stream",
     "text": [
      "6\n",
      "5\n",
      "5\n",
      "5\n",
      "8\n"
     ]
    }
   ],
   "source": [
    "print(len(data[(data[\"Johnny Depp\"]==1)&(data[\"Helena Bonham Carter\"]==1)]))\n",
    "print(len(data[(data[\"Hugh Jackman\"]==1)&(data[\"Ian McKellen\"]==1)]))\n",
    "print(len(data[(data[\"Vin Diesel\"]==1)&(data[\"Paul Walker\"]==1)]))\n",
    "print(len(data[(data[\"Adam Sandler\"]==1)&(data[\"Kevin James\"]==1)]))\n",
    "print(len(data[(data[\"Daniel Radcliffe\"]==1)&(data[\"Rupert Grint\"]==1)]))"
   ]
  },
  {
   "cell_type": "code",
   "execution_count": 339,
   "metadata": {},
   "outputs": [],
   "source": [
    "answer_ls.append(5)"
   ]
  },
  {
   "cell_type": "markdown",
   "metadata": {},
   "source": [
    "# 36. У какого из режиссеров выше вероятность выпустить фильм в прибыли? (5 баллов)101\n",
    "Варианты ответа:\n",
    "1. Quentin Tarantino\n",
    "2. Steven Soderbergh\n",
    "3. Robert Rodriguez\n",
    "4. Christopher Nolan\n",
    "5. Clint Eastwood"
   ]
  },
  {
   "cell_type": "code",
   "execution_count": 366,
   "metadata": {},
   "outputs": [
    {
     "name": "stdout",
     "output_type": "stream",
     "text": [
      "5 0\n",
      "10 3\n",
      "6 1\n",
      "8 0\n",
      "10 2\n"
     ]
    }
   ],
   "source": [
    "print(len(data[(data.director == \"Quentin Tarantino\")&(data.profit > 0)]),len(data[(data.director == \"Quentin Tarantino\")&(data.profit < 0)]))\n",
    "print(len(data[(data.director == \"Steven Soderbergh\")&(data.profit > 0)]),len(data[(data.director == \"Steven Soderbergh\")&(data.profit < 0)]))\n",
    "print(len(data[(data.director == \"Robert Rodriguez\")&(data.profit > 0)]),len(data[(data.director == \"Robert Rodriguez\")&(data.profit < 0)]))\n",
    "print(len(data[(data.director == \"Christopher Nolan\")&(data.profit > 0)]),len(data[(data.director == \"Christopher Nolan\")&(data.profit < 0)]))\n",
    "print(len(data[(data.director == \"Clint Eastwood\")&(data.profit > 0)]),len(data[(data.director == \"Clint Eastwood\")&(data.profit < 0)]))"
   ]
  },
  {
   "cell_type": "code",
   "execution_count": 359,
   "metadata": {},
   "outputs": [
    {
     "data": {
      "text/html": [
       "<div>\n",
       "<style scoped>\n",
       "    .dataframe tbody tr th:only-of-type {\n",
       "        vertical-align: middle;\n",
       "    }\n",
       "\n",
       "    .dataframe tbody tr th {\n",
       "        vertical-align: top;\n",
       "    }\n",
       "\n",
       "    .dataframe thead th {\n",
       "        text-align: right;\n",
       "    }\n",
       "</style>\n",
       "<table border=\"1\" class=\"dataframe\">\n",
       "  <thead>\n",
       "    <tr style=\"text-align: right;\">\n",
       "      <th></th>\n",
       "      <th>imdb_id</th>\n",
       "      <th>popularity</th>\n",
       "      <th>budget</th>\n",
       "      <th>revenue</th>\n",
       "      <th>original_title</th>\n",
       "      <th>cast</th>\n",
       "      <th>director</th>\n",
       "      <th>tagline</th>\n",
       "      <th>overview</th>\n",
       "      <th>runtime</th>\n",
       "      <th>genres</th>\n",
       "      <th>production_companies</th>\n",
       "      <th>release_date</th>\n",
       "      <th>vote_count</th>\n",
       "      <th>vote_average</th>\n",
       "      <th>release_year</th>\n",
       "      <th>profit</th>\n",
       "    </tr>\n",
       "  </thead>\n",
       "  <tbody>\n",
       "    <tr>\n",
       "      <th>301</th>\n",
       "      <td>tt1130080</td>\n",
       "      <td>1.018005</td>\n",
       "      <td>22000000</td>\n",
       "      <td>35424826</td>\n",
       "      <td>The Informant!</td>\n",
       "      <td>Matt Damon|Scott Bakula|Joel McHale|Melanie Ly...</td>\n",
       "      <td>Steven Soderbergh</td>\n",
       "      <td>Based on a tattle-tale.</td>\n",
       "      <td>A rising star at agri-industry giant Archer Da...</td>\n",
       "      <td>108</td>\n",
       "      <td>Comedy|Crime|Drama|Thriller</td>\n",
       "      <td>Section Eight|Groundswell Productions|Warner B...</td>\n",
       "      <td>9/18/2009</td>\n",
       "      <td>170</td>\n",
       "      <td>6.0</td>\n",
       "      <td>2009</td>\n",
       "      <td>13424826</td>\n",
       "    </tr>\n",
       "    <tr>\n",
       "      <th>504</th>\n",
       "      <td>tt0240772</td>\n",
       "      <td>2.642249</td>\n",
       "      <td>85000000</td>\n",
       "      <td>450717150</td>\n",
       "      <td>Ocean's Eleven</td>\n",
       "      <td>George Clooney|Brad Pitt|Matt Damon|Andy GarcÃ...</td>\n",
       "      <td>Steven Soderbergh</td>\n",
       "      <td>Are you in or out?</td>\n",
       "      <td>Less than 24 hours into his parole, charismati...</td>\n",
       "      <td>116</td>\n",
       "      <td>Thriller|Crime</td>\n",
       "      <td>Village Roadshow Pictures|Section Eight|NPV En...</td>\n",
       "      <td>12/7/2001</td>\n",
       "      <td>2645</td>\n",
       "      <td>7.0</td>\n",
       "      <td>2001</td>\n",
       "      <td>365717150</td>\n",
       "    </tr>\n",
       "    <tr>\n",
       "      <th>798</th>\n",
       "      <td>tt1598778</td>\n",
       "      <td>1.045866</td>\n",
       "      <td>60000000</td>\n",
       "      <td>135458097</td>\n",
       "      <td>Contagion</td>\n",
       "      <td>Matt Damon|Gwyneth Paltrow|Kate Winslet|Jude L...</td>\n",
       "      <td>Steven Soderbergh</td>\n",
       "      <td>Nothing spreads like fear</td>\n",
       "      <td>Contagion follows the rapid progress of a leth...</td>\n",
       "      <td>106</td>\n",
       "      <td>Drama|Thriller|Science Fiction</td>\n",
       "      <td>Double Feature Films|Regency Enterprises|Warne...</td>\n",
       "      <td>9/8/2011</td>\n",
       "      <td>852</td>\n",
       "      <td>6.1</td>\n",
       "      <td>2011</td>\n",
       "      <td>75458097</td>\n",
       "    </tr>\n",
       "    <tr>\n",
       "      <th>944</th>\n",
       "      <td>tt0307479</td>\n",
       "      <td>0.543750</td>\n",
       "      <td>47000000</td>\n",
       "      <td>30002758</td>\n",
       "      <td>Solaris</td>\n",
       "      <td>George Clooney|Natascha McElhone|Viola Davis|J...</td>\n",
       "      <td>Steven Soderbergh</td>\n",
       "      <td>How far will you go for a second chance?</td>\n",
       "      <td>Upon arrival at the space station orbiting an ...</td>\n",
       "      <td>99</td>\n",
       "      <td>Drama|Science Fiction|Mystery|Romance</td>\n",
       "      <td>Twentieth Century Fox Film Corporation|Lightst...</td>\n",
       "      <td>11/27/2002</td>\n",
       "      <td>196</td>\n",
       "      <td>5.8</td>\n",
       "      <td>2002</td>\n",
       "      <td>-16997242</td>\n",
       "    </tr>\n",
       "    <tr>\n",
       "      <th>1001</th>\n",
       "      <td>tt1915581</td>\n",
       "      <td>1.974672</td>\n",
       "      <td>7000000</td>\n",
       "      <td>167221571</td>\n",
       "      <td>Magic Mike</td>\n",
       "      <td>Channing Tatum|Matthew McConaughey|Olivia Munn...</td>\n",
       "      <td>Steven Soderbergh</td>\n",
       "      <td>Work all day. Work it all night.</td>\n",
       "      <td>Mike, an experienced stripper, takes a younger...</td>\n",
       "      <td>110</td>\n",
       "      <td>Drama|Comedy</td>\n",
       "      <td>Nick Wechsler Productions|Extension 765</td>\n",
       "      <td>6/28/2012</td>\n",
       "      <td>664</td>\n",
       "      <td>6.1</td>\n",
       "      <td>2012</td>\n",
       "      <td>160221571</td>\n",
       "    </tr>\n",
       "    <tr>\n",
       "      <th>1019</th>\n",
       "      <td>tt1506999</td>\n",
       "      <td>1.517201</td>\n",
       "      <td>23000000</td>\n",
       "      <td>33372606</td>\n",
       "      <td>Haywire</td>\n",
       "      <td>Gina Carano|Ewan McGregor|Michael Fassbender|B...</td>\n",
       "      <td>Steven Soderbergh</td>\n",
       "      <td>They left her no choice.</td>\n",
       "      <td>Mallory Kane is a highly trained operative who...</td>\n",
       "      <td>93</td>\n",
       "      <td>Thriller</td>\n",
       "      <td>Irish Film Board|Relativity Media</td>\n",
       "      <td>1/18/2012</td>\n",
       "      <td>339</td>\n",
       "      <td>5.5</td>\n",
       "      <td>2012</td>\n",
       "      <td>10372606</td>\n",
       "    </tr>\n",
       "    <tr>\n",
       "      <th>1271</th>\n",
       "      <td>tt1291580</td>\n",
       "      <td>0.934716</td>\n",
       "      <td>23000000</td>\n",
       "      <td>15600000</td>\n",
       "      <td>Behind the Candelabra</td>\n",
       "      <td>Michael Douglas|Matt Damon|Rob Lowe|Dan Aykroy...</td>\n",
       "      <td>Steven Soderbergh</td>\n",
       "      <td>Too much of a good thing is wonderful</td>\n",
       "      <td>Based on the autobiographical novel, the tempe...</td>\n",
       "      <td>118</td>\n",
       "      <td>Drama|Romance</td>\n",
       "      <td>HBO Films</td>\n",
       "      <td>5/26/2013</td>\n",
       "      <td>209</td>\n",
       "      <td>6.6</td>\n",
       "      <td>2013</td>\n",
       "      <td>-7400000</td>\n",
       "    </tr>\n",
       "    <tr>\n",
       "      <th>1274</th>\n",
       "      <td>tt2053463</td>\n",
       "      <td>0.886993</td>\n",
       "      <td>30000000</td>\n",
       "      <td>63372757</td>\n",
       "      <td>Side Effects</td>\n",
       "      <td>Rooney Mara|Jude Law|Channing Tatum|Catherine ...</td>\n",
       "      <td>Steven Soderbergh</td>\n",
       "      <td>One pill can change your life.</td>\n",
       "      <td>A woman turns to prescription medication as a ...</td>\n",
       "      <td>106</td>\n",
       "      <td>Thriller|Crime|Drama</td>\n",
       "      <td>Di Bonaventura Pictures|Endgame Entertainment|...</td>\n",
       "      <td>2/7/2013</td>\n",
       "      <td>987</td>\n",
       "      <td>6.3</td>\n",
       "      <td>2013</td>\n",
       "      <td>33372757</td>\n",
       "    </tr>\n",
       "    <tr>\n",
       "      <th>1539</th>\n",
       "      <td>tt0452624</td>\n",
       "      <td>0.437529</td>\n",
       "      <td>32000000</td>\n",
       "      <td>5914908</td>\n",
       "      <td>The Good German</td>\n",
       "      <td>George Clooney|Cate Blanchett|Tobey Maguire|To...</td>\n",
       "      <td>Steven Soderbergh</td>\n",
       "      <td>If war is Hell, then what comes after?</td>\n",
       "      <td>An American journalist played by George Cloone...</td>\n",
       "      <td>108</td>\n",
       "      <td>War|Crime|Drama|Mystery|Romance</td>\n",
       "      <td>Warner Bros.|Section Eight Productions|Sunset ...</td>\n",
       "      <td>12/8/2006</td>\n",
       "      <td>46</td>\n",
       "      <td>5.8</td>\n",
       "      <td>2006</td>\n",
       "      <td>-26085092</td>\n",
       "    </tr>\n",
       "    <tr>\n",
       "      <th>1579</th>\n",
       "      <td>tt0349903</td>\n",
       "      <td>2.175284</td>\n",
       "      <td>110000000</td>\n",
       "      <td>362744280</td>\n",
       "      <td>Ocean's Twelve</td>\n",
       "      <td>George Clooney|Brad Pitt|Catherine Zeta-Jones|...</td>\n",
       "      <td>Steven Soderbergh</td>\n",
       "      <td>Twelve is the new eleven.</td>\n",
       "      <td>Danny Ocean reunites with his old flame and th...</td>\n",
       "      <td>125</td>\n",
       "      <td>Thriller|Crime</td>\n",
       "      <td>Village Roadshow Pictures|Section Eight|Jerry ...</td>\n",
       "      <td>12/9/2004</td>\n",
       "      <td>1376</td>\n",
       "      <td>6.4</td>\n",
       "      <td>2004</td>\n",
       "      <td>252744280</td>\n",
       "    </tr>\n",
       "    <tr>\n",
       "      <th>1703</th>\n",
       "      <td>tt0496806</td>\n",
       "      <td>1.414350</td>\n",
       "      <td>85000000</td>\n",
       "      <td>311312624</td>\n",
       "      <td>Ocean's Thirteen</td>\n",
       "      <td>George Clooney|Brad Pitt|Matt Damon|Al Pacino|...</td>\n",
       "      <td>Steven Soderbergh</td>\n",
       "      <td>What are the odds of getting even? 13 to one.</td>\n",
       "      <td>Danny Ocean's team of criminals are back and a...</td>\n",
       "      <td>122</td>\n",
       "      <td>Crime|Thriller</td>\n",
       "      <td>Village Roadshow Pictures|Section Eight|Jerry ...</td>\n",
       "      <td>6/7/2007</td>\n",
       "      <td>1371</td>\n",
       "      <td>6.4</td>\n",
       "      <td>2007</td>\n",
       "      <td>226312624</td>\n",
       "    </tr>\n",
       "    <tr>\n",
       "      <th>1820</th>\n",
       "      <td>tt0195685</td>\n",
       "      <td>1.208034</td>\n",
       "      <td>52000000</td>\n",
       "      <td>256271286</td>\n",
       "      <td>Erin Brockovich</td>\n",
       "      <td>Julia Roberts|Albert Finney|Aaron Eckhart|Marg...</td>\n",
       "      <td>Steven Soderbergh</td>\n",
       "      <td>She brought a small town to its feet and a hug...</td>\n",
       "      <td>A twice-divorced mother of three who sees an i...</td>\n",
       "      <td>131</td>\n",
       "      <td>Drama</td>\n",
       "      <td>Jersey Films</td>\n",
       "      <td>3/13/2000</td>\n",
       "      <td>406</td>\n",
       "      <td>6.9</td>\n",
       "      <td>2000</td>\n",
       "      <td>204271286</td>\n",
       "    </tr>\n",
       "    <tr>\n",
       "      <th>1837</th>\n",
       "      <td>tt0181865</td>\n",
       "      <td>0.918262</td>\n",
       "      <td>48000000</td>\n",
       "      <td>207515725</td>\n",
       "      <td>Traffic</td>\n",
       "      <td>Michael Douglas|Benicio del Toro|Jacob Vargas|...</td>\n",
       "      <td>Steven Soderbergh</td>\n",
       "      <td>No one gets away clean</td>\n",
       "      <td>An exploration of the United States of America...</td>\n",
       "      <td>148</td>\n",
       "      <td>Drama</td>\n",
       "      <td>USA Films|Initial Entertainment Group (IEG)|Be...</td>\n",
       "      <td>12/27/2000</td>\n",
       "      <td>286</td>\n",
       "      <td>6.6</td>\n",
       "      <td>2000</td>\n",
       "      <td>159515725</td>\n",
       "    </tr>\n",
       "  </tbody>\n",
       "</table>\n",
       "</div>"
      ],
      "text/plain": [
       "        imdb_id  popularity     budget    revenue         original_title  \\\n",
       "301   tt1130080    1.018005   22000000   35424826         The Informant!   \n",
       "504   tt0240772    2.642249   85000000  450717150         Ocean's Eleven   \n",
       "798   tt1598778    1.045866   60000000  135458097              Contagion   \n",
       "944   tt0307479    0.543750   47000000   30002758                Solaris   \n",
       "1001  tt1915581    1.974672    7000000  167221571             Magic Mike   \n",
       "1019  tt1506999    1.517201   23000000   33372606                Haywire   \n",
       "1271  tt1291580    0.934716   23000000   15600000  Behind the Candelabra   \n",
       "1274  tt2053463    0.886993   30000000   63372757           Side Effects   \n",
       "1539  tt0452624    0.437529   32000000    5914908        The Good German   \n",
       "1579  tt0349903    2.175284  110000000  362744280         Ocean's Twelve   \n",
       "1703  tt0496806    1.414350   85000000  311312624       Ocean's Thirteen   \n",
       "1820  tt0195685    1.208034   52000000  256271286        Erin Brockovich   \n",
       "1837  tt0181865    0.918262   48000000  207515725                Traffic   \n",
       "\n",
       "                                                   cast           director  \\\n",
       "301   Matt Damon|Scott Bakula|Joel McHale|Melanie Ly...  Steven Soderbergh   \n",
       "504   George Clooney|Brad Pitt|Matt Damon|Andy GarcÃ...  Steven Soderbergh   \n",
       "798   Matt Damon|Gwyneth Paltrow|Kate Winslet|Jude L...  Steven Soderbergh   \n",
       "944   George Clooney|Natascha McElhone|Viola Davis|J...  Steven Soderbergh   \n",
       "1001  Channing Tatum|Matthew McConaughey|Olivia Munn...  Steven Soderbergh   \n",
       "1019  Gina Carano|Ewan McGregor|Michael Fassbender|B...  Steven Soderbergh   \n",
       "1271  Michael Douglas|Matt Damon|Rob Lowe|Dan Aykroy...  Steven Soderbergh   \n",
       "1274  Rooney Mara|Jude Law|Channing Tatum|Catherine ...  Steven Soderbergh   \n",
       "1539  George Clooney|Cate Blanchett|Tobey Maguire|To...  Steven Soderbergh   \n",
       "1579  George Clooney|Brad Pitt|Catherine Zeta-Jones|...  Steven Soderbergh   \n",
       "1703  George Clooney|Brad Pitt|Matt Damon|Al Pacino|...  Steven Soderbergh   \n",
       "1820  Julia Roberts|Albert Finney|Aaron Eckhart|Marg...  Steven Soderbergh   \n",
       "1837  Michael Douglas|Benicio del Toro|Jacob Vargas|...  Steven Soderbergh   \n",
       "\n",
       "                                                tagline  \\\n",
       "301                             Based on a tattle-tale.   \n",
       "504                                  Are you in or out?   \n",
       "798                           Nothing spreads like fear   \n",
       "944            How far will you go for a second chance?   \n",
       "1001                   Work all day. Work it all night.   \n",
       "1019                           They left her no choice.   \n",
       "1271              Too much of a good thing is wonderful   \n",
       "1274                     One pill can change your life.   \n",
       "1539             If war is Hell, then what comes after?   \n",
       "1579                          Twelve is the new eleven.   \n",
       "1703      What are the odds of getting even? 13 to one.   \n",
       "1820  She brought a small town to its feet and a hug...   \n",
       "1837                             No one gets away clean   \n",
       "\n",
       "                                               overview  runtime  \\\n",
       "301   A rising star at agri-industry giant Archer Da...      108   \n",
       "504   Less than 24 hours into his parole, charismati...      116   \n",
       "798   Contagion follows the rapid progress of a leth...      106   \n",
       "944   Upon arrival at the space station orbiting an ...       99   \n",
       "1001  Mike, an experienced stripper, takes a younger...      110   \n",
       "1019  Mallory Kane is a highly trained operative who...       93   \n",
       "1271  Based on the autobiographical novel, the tempe...      118   \n",
       "1274  A woman turns to prescription medication as a ...      106   \n",
       "1539  An American journalist played by George Cloone...      108   \n",
       "1579  Danny Ocean reunites with his old flame and th...      125   \n",
       "1703  Danny Ocean's team of criminals are back and a...      122   \n",
       "1820  A twice-divorced mother of three who sees an i...      131   \n",
       "1837  An exploration of the United States of America...      148   \n",
       "\n",
       "                                     genres  \\\n",
       "301             Comedy|Crime|Drama|Thriller   \n",
       "504                          Thriller|Crime   \n",
       "798          Drama|Thriller|Science Fiction   \n",
       "944   Drama|Science Fiction|Mystery|Romance   \n",
       "1001                           Drama|Comedy   \n",
       "1019                               Thriller   \n",
       "1271                          Drama|Romance   \n",
       "1274                   Thriller|Crime|Drama   \n",
       "1539        War|Crime|Drama|Mystery|Romance   \n",
       "1579                         Thriller|Crime   \n",
       "1703                         Crime|Thriller   \n",
       "1820                                  Drama   \n",
       "1837                                  Drama   \n",
       "\n",
       "                                   production_companies release_date  \\\n",
       "301   Section Eight|Groundswell Productions|Warner B...    9/18/2009   \n",
       "504   Village Roadshow Pictures|Section Eight|NPV En...    12/7/2001   \n",
       "798   Double Feature Films|Regency Enterprises|Warne...     9/8/2011   \n",
       "944   Twentieth Century Fox Film Corporation|Lightst...   11/27/2002   \n",
       "1001            Nick Wechsler Productions|Extension 765    6/28/2012   \n",
       "1019                  Irish Film Board|Relativity Media    1/18/2012   \n",
       "1271                                          HBO Films    5/26/2013   \n",
       "1274  Di Bonaventura Pictures|Endgame Entertainment|...     2/7/2013   \n",
       "1539  Warner Bros.|Section Eight Productions|Sunset ...    12/8/2006   \n",
       "1579  Village Roadshow Pictures|Section Eight|Jerry ...    12/9/2004   \n",
       "1703  Village Roadshow Pictures|Section Eight|Jerry ...     6/7/2007   \n",
       "1820                                       Jersey Films    3/13/2000   \n",
       "1837  USA Films|Initial Entertainment Group (IEG)|Be...   12/27/2000   \n",
       "\n",
       "      vote_count  vote_average  release_year     profit  \n",
       "301          170           6.0          2009   13424826  \n",
       "504         2645           7.0          2001  365717150  \n",
       "798          852           6.1          2011   75458097  \n",
       "944          196           5.8          2002  -16997242  \n",
       "1001         664           6.1          2012  160221571  \n",
       "1019         339           5.5          2012   10372606  \n",
       "1271         209           6.6          2013   -7400000  \n",
       "1274         987           6.3          2013   33372757  \n",
       "1539          46           5.8          2006  -26085092  \n",
       "1579        1376           6.4          2004  252744280  \n",
       "1703        1371           6.4          2007  226312624  \n",
       "1820         406           6.9          2000  204271286  \n",
       "1837         286           6.6          2000  159515725  "
      ]
     },
     "execution_count": 359,
     "metadata": {},
     "output_type": "execute_result"
    }
   ],
   "source": [
    "data[(data.director == \"Steven Soderbergh\")]"
   ]
  },
  {
   "cell_type": "code",
   "execution_count": null,
   "metadata": {},
   "outputs": [],
   "source": [
    "answer_ls.append(1)"
   ]
  },
  {
   "cell_type": "markdown",
   "metadata": {},
   "source": [
    "# Submission"
   ]
  },
  {
   "cell_type": "code",
   "execution_count": 6,
   "metadata": {},
   "outputs": [
    {
     "data": {
      "text/plain": [
       "0"
      ]
     },
     "execution_count": 6,
     "metadata": {},
     "output_type": "execute_result"
    }
   ],
   "source": [
    "len(answer_ls)"
   ]
  },
  {
   "cell_type": "code",
   "execution_count": 5,
   "metadata": {},
   "outputs": [
    {
     "data": {
      "text/html": [
       "<div>\n",
       "<style scoped>\n",
       "    .dataframe tbody tr th:only-of-type {\n",
       "        vertical-align: middle;\n",
       "    }\n",
       "\n",
       "    .dataframe tbody tr th {\n",
       "        vertical-align: top;\n",
       "    }\n",
       "\n",
       "    .dataframe thead th {\n",
       "        text-align: right;\n",
       "    }\n",
       "</style>\n",
       "<table border=\"1\" class=\"dataframe\">\n",
       "  <thead>\n",
       "    <tr style=\"text-align: right;\">\n",
       "      <th></th>\n",
       "      <th>Id</th>\n",
       "      <th>Answer</th>\n",
       "    </tr>\n",
       "  </thead>\n",
       "  <tbody>\n",
       "  </tbody>\n",
       "</table>\n",
       "</div>"
      ],
      "text/plain": [
       "Empty DataFrame\n",
       "Columns: [Id, Answer]\n",
       "Index: []"
      ]
     },
     "execution_count": 5,
     "metadata": {},
     "output_type": "execute_result"
    }
   ],
   "source": [
    "pd.DataFrame({'Id':range(1,len(answer_ls)+1), 'Answer':answer_ls}, columns=['Id', 'Answer'])"
   ]
  },
  {
   "cell_type": "code",
   "execution_count": null,
   "metadata": {},
   "outputs": [],
   "source": []
  }
 ],
 "metadata": {
  "kernelspec": {
   "display_name": "Python 3",
   "language": "python",
   "name": "python3"
  },
  "language_info": {
   "codemirror_mode": {
    "name": "ipython",
    "version": 3
   },
   "file_extension": ".py",
   "mimetype": "text/x-python",
   "name": "python",
   "nbconvert_exporter": "python",
   "pygments_lexer": "ipython3",
   "version": "3.6.6"
  }
 },
 "nbformat": 4,
 "nbformat_minor": 4
}
